{
 "cells": [
  {
   "cell_type": "markdown",
   "metadata": {},
   "source": [
    "<h2> Module 3 Exercises </h2>\n",
    "<h3> Filipp Krasovsky </h3>"
   ]
  },
  {
   "cell_type": "markdown",
   "metadata": {},
   "source": [
    "Data Science Using Python and R: Chapter 5 - Page 78: \n",
    "<p>Questions #28, 29, 30, 31, 32, 33, & 34</p>\n",
    "We will be using the churn data set for these exercises. "
   ]
  },
  {
   "cell_type": "code",
   "execution_count": 101,
   "metadata": {},
   "outputs": [],
   "source": [
    "import pandas as pd \n",
    "import numpy as np \n",
    "from sklearn.model_selection import train_test_split\n",
    "import random\n",
    "from sklearn.naive_bayes import MultinomialNB\n",
    "import statsmodels.tools.tools as stattools\n",
    "import sklearn.tree as tree\n",
    "from sklearn.tree import DecisionTreeClassifier, export_graphviz"
   ]
  },
  {
   "cell_type": "code",
   "execution_count": 71,
   "metadata": {},
   "outputs": [
    {
     "data": {
      "text/html": [
       "<div>\n",
       "<style scoped>\n",
       "    .dataframe tbody tr th:only-of-type {\n",
       "        vertical-align: middle;\n",
       "    }\n",
       "\n",
       "    .dataframe tbody tr th {\n",
       "        vertical-align: top;\n",
       "    }\n",
       "\n",
       "    .dataframe thead th {\n",
       "        text-align: right;\n",
       "    }\n",
       "</style>\n",
       "<table border=\"1\" class=\"dataframe\">\n",
       "  <thead>\n",
       "    <tr style=\"text-align: right;\">\n",
       "      <th></th>\n",
       "      <th>State</th>\n",
       "      <th>Account Length</th>\n",
       "      <th>Area Code</th>\n",
       "      <th>Phone</th>\n",
       "      <th>Intl Plan</th>\n",
       "      <th>VMail Plan</th>\n",
       "      <th>VMail Message</th>\n",
       "      <th>Day Mins</th>\n",
       "      <th>Day Calls</th>\n",
       "      <th>Day Charge</th>\n",
       "      <th>...</th>\n",
       "      <th>Eve Charge</th>\n",
       "      <th>Night Mins</th>\n",
       "      <th>Night Calls</th>\n",
       "      <th>Night Charge</th>\n",
       "      <th>Intl Mins</th>\n",
       "      <th>Intl Calls</th>\n",
       "      <th>Intl Charge</th>\n",
       "      <th>CustServ Calls</th>\n",
       "      <th>Old Churn</th>\n",
       "      <th>Churn</th>\n",
       "    </tr>\n",
       "  </thead>\n",
       "  <tbody>\n",
       "    <tr>\n",
       "      <th>0</th>\n",
       "      <td>KS</td>\n",
       "      <td>128</td>\n",
       "      <td>415</td>\n",
       "      <td>382-4657</td>\n",
       "      <td>no</td>\n",
       "      <td>yes</td>\n",
       "      <td>25</td>\n",
       "      <td>265.1</td>\n",
       "      <td>110</td>\n",
       "      <td>45.07</td>\n",
       "      <td>...</td>\n",
       "      <td>16.78</td>\n",
       "      <td>244.7</td>\n",
       "      <td>91</td>\n",
       "      <td>11.01</td>\n",
       "      <td>10.0</td>\n",
       "      <td>3</td>\n",
       "      <td>2.70</td>\n",
       "      <td>1</td>\n",
       "      <td>False.</td>\n",
       "      <td>False</td>\n",
       "    </tr>\n",
       "    <tr>\n",
       "      <th>1</th>\n",
       "      <td>OH</td>\n",
       "      <td>107</td>\n",
       "      <td>415</td>\n",
       "      <td>371-7191</td>\n",
       "      <td>no</td>\n",
       "      <td>yes</td>\n",
       "      <td>26</td>\n",
       "      <td>161.6</td>\n",
       "      <td>123</td>\n",
       "      <td>27.47</td>\n",
       "      <td>...</td>\n",
       "      <td>16.62</td>\n",
       "      <td>254.4</td>\n",
       "      <td>103</td>\n",
       "      <td>11.45</td>\n",
       "      <td>13.7</td>\n",
       "      <td>3</td>\n",
       "      <td>3.70</td>\n",
       "      <td>1</td>\n",
       "      <td>False.</td>\n",
       "      <td>False</td>\n",
       "    </tr>\n",
       "    <tr>\n",
       "      <th>2</th>\n",
       "      <td>NJ</td>\n",
       "      <td>137</td>\n",
       "      <td>415</td>\n",
       "      <td>358-1921</td>\n",
       "      <td>no</td>\n",
       "      <td>no</td>\n",
       "      <td>0</td>\n",
       "      <td>243.4</td>\n",
       "      <td>114</td>\n",
       "      <td>41.38</td>\n",
       "      <td>...</td>\n",
       "      <td>10.30</td>\n",
       "      <td>162.6</td>\n",
       "      <td>104</td>\n",
       "      <td>7.32</td>\n",
       "      <td>12.2</td>\n",
       "      <td>5</td>\n",
       "      <td>3.29</td>\n",
       "      <td>0</td>\n",
       "      <td>False.</td>\n",
       "      <td>False</td>\n",
       "    </tr>\n",
       "    <tr>\n",
       "      <th>3</th>\n",
       "      <td>OH</td>\n",
       "      <td>84</td>\n",
       "      <td>408</td>\n",
       "      <td>375-9999</td>\n",
       "      <td>yes</td>\n",
       "      <td>no</td>\n",
       "      <td>0</td>\n",
       "      <td>299.4</td>\n",
       "      <td>71</td>\n",
       "      <td>50.90</td>\n",
       "      <td>...</td>\n",
       "      <td>5.26</td>\n",
       "      <td>196.9</td>\n",
       "      <td>89</td>\n",
       "      <td>8.86</td>\n",
       "      <td>6.6</td>\n",
       "      <td>7</td>\n",
       "      <td>1.78</td>\n",
       "      <td>2</td>\n",
       "      <td>False.</td>\n",
       "      <td>False</td>\n",
       "    </tr>\n",
       "    <tr>\n",
       "      <th>4</th>\n",
       "      <td>OK</td>\n",
       "      <td>75</td>\n",
       "      <td>415</td>\n",
       "      <td>330-6626</td>\n",
       "      <td>yes</td>\n",
       "      <td>no</td>\n",
       "      <td>0</td>\n",
       "      <td>166.7</td>\n",
       "      <td>113</td>\n",
       "      <td>28.34</td>\n",
       "      <td>...</td>\n",
       "      <td>12.61</td>\n",
       "      <td>186.9</td>\n",
       "      <td>121</td>\n",
       "      <td>8.41</td>\n",
       "      <td>10.1</td>\n",
       "      <td>3</td>\n",
       "      <td>2.73</td>\n",
       "      <td>3</td>\n",
       "      <td>False.</td>\n",
       "      <td>False</td>\n",
       "    </tr>\n",
       "    <tr>\n",
       "      <th>5</th>\n",
       "      <td>AL</td>\n",
       "      <td>118</td>\n",
       "      <td>510</td>\n",
       "      <td>391-8027</td>\n",
       "      <td>yes</td>\n",
       "      <td>no</td>\n",
       "      <td>0</td>\n",
       "      <td>223.4</td>\n",
       "      <td>98</td>\n",
       "      <td>37.98</td>\n",
       "      <td>...</td>\n",
       "      <td>18.75</td>\n",
       "      <td>203.9</td>\n",
       "      <td>118</td>\n",
       "      <td>9.18</td>\n",
       "      <td>6.3</td>\n",
       "      <td>6</td>\n",
       "      <td>1.70</td>\n",
       "      <td>0</td>\n",
       "      <td>False.</td>\n",
       "      <td>False</td>\n",
       "    </tr>\n",
       "    <tr>\n",
       "      <th>6</th>\n",
       "      <td>MA</td>\n",
       "      <td>121</td>\n",
       "      <td>510</td>\n",
       "      <td>355-9993</td>\n",
       "      <td>no</td>\n",
       "      <td>yes</td>\n",
       "      <td>24</td>\n",
       "      <td>218.2</td>\n",
       "      <td>88</td>\n",
       "      <td>37.09</td>\n",
       "      <td>...</td>\n",
       "      <td>29.62</td>\n",
       "      <td>212.6</td>\n",
       "      <td>118</td>\n",
       "      <td>9.57</td>\n",
       "      <td>7.5</td>\n",
       "      <td>7</td>\n",
       "      <td>2.03</td>\n",
       "      <td>3</td>\n",
       "      <td>False.</td>\n",
       "      <td>False</td>\n",
       "    </tr>\n",
       "    <tr>\n",
       "      <th>7</th>\n",
       "      <td>MO</td>\n",
       "      <td>147</td>\n",
       "      <td>415</td>\n",
       "      <td>329-9001</td>\n",
       "      <td>yes</td>\n",
       "      <td>no</td>\n",
       "      <td>0</td>\n",
       "      <td>157.0</td>\n",
       "      <td>79</td>\n",
       "      <td>26.69</td>\n",
       "      <td>...</td>\n",
       "      <td>8.76</td>\n",
       "      <td>211.8</td>\n",
       "      <td>96</td>\n",
       "      <td>9.53</td>\n",
       "      <td>7.1</td>\n",
       "      <td>6</td>\n",
       "      <td>1.92</td>\n",
       "      <td>0</td>\n",
       "      <td>False.</td>\n",
       "      <td>False</td>\n",
       "    </tr>\n",
       "    <tr>\n",
       "      <th>8</th>\n",
       "      <td>LA</td>\n",
       "      <td>117</td>\n",
       "      <td>408</td>\n",
       "      <td>335-4719</td>\n",
       "      <td>no</td>\n",
       "      <td>no</td>\n",
       "      <td>0</td>\n",
       "      <td>184.5</td>\n",
       "      <td>97</td>\n",
       "      <td>31.37</td>\n",
       "      <td>...</td>\n",
       "      <td>29.89</td>\n",
       "      <td>215.8</td>\n",
       "      <td>90</td>\n",
       "      <td>9.71</td>\n",
       "      <td>8.7</td>\n",
       "      <td>4</td>\n",
       "      <td>2.35</td>\n",
       "      <td>1</td>\n",
       "      <td>False.</td>\n",
       "      <td>False</td>\n",
       "    </tr>\n",
       "    <tr>\n",
       "      <th>9</th>\n",
       "      <td>WV</td>\n",
       "      <td>141</td>\n",
       "      <td>415</td>\n",
       "      <td>330-8173</td>\n",
       "      <td>yes</td>\n",
       "      <td>yes</td>\n",
       "      <td>37</td>\n",
       "      <td>258.6</td>\n",
       "      <td>84</td>\n",
       "      <td>43.96</td>\n",
       "      <td>...</td>\n",
       "      <td>18.87</td>\n",
       "      <td>326.4</td>\n",
       "      <td>97</td>\n",
       "      <td>14.69</td>\n",
       "      <td>11.2</td>\n",
       "      <td>5</td>\n",
       "      <td>3.02</td>\n",
       "      <td>0</td>\n",
       "      <td>False.</td>\n",
       "      <td>False</td>\n",
       "    </tr>\n",
       "  </tbody>\n",
       "</table>\n",
       "<p>10 rows × 22 columns</p>\n",
       "</div>"
      ],
      "text/plain": [
       "  State  Account Length  Area Code     Phone Intl Plan VMail Plan  \\\n",
       "0    KS             128        415  382-4657        no        yes   \n",
       "1    OH             107        415  371-7191        no        yes   \n",
       "2    NJ             137        415  358-1921        no         no   \n",
       "3    OH              84        408  375-9999       yes         no   \n",
       "4    OK              75        415  330-6626       yes         no   \n",
       "5    AL             118        510  391-8027       yes         no   \n",
       "6    MA             121        510  355-9993        no        yes   \n",
       "7    MO             147        415  329-9001       yes         no   \n",
       "8    LA             117        408  335-4719        no         no   \n",
       "9    WV             141        415  330-8173       yes        yes   \n",
       "\n",
       "   VMail Message  Day Mins  Day Calls  Day Charge  ...  Eve Charge  \\\n",
       "0             25     265.1        110       45.07  ...       16.78   \n",
       "1             26     161.6        123       27.47  ...       16.62   \n",
       "2              0     243.4        114       41.38  ...       10.30   \n",
       "3              0     299.4         71       50.90  ...        5.26   \n",
       "4              0     166.7        113       28.34  ...       12.61   \n",
       "5              0     223.4         98       37.98  ...       18.75   \n",
       "6             24     218.2         88       37.09  ...       29.62   \n",
       "7              0     157.0         79       26.69  ...        8.76   \n",
       "8              0     184.5         97       31.37  ...       29.89   \n",
       "9             37     258.6         84       43.96  ...       18.87   \n",
       "\n",
       "   Night Mins  Night Calls  Night Charge  Intl Mins  Intl Calls  Intl Charge  \\\n",
       "0       244.7           91         11.01       10.0           3         2.70   \n",
       "1       254.4          103         11.45       13.7           3         3.70   \n",
       "2       162.6          104          7.32       12.2           5         3.29   \n",
       "3       196.9           89          8.86        6.6           7         1.78   \n",
       "4       186.9          121          8.41       10.1           3         2.73   \n",
       "5       203.9          118          9.18        6.3           6         1.70   \n",
       "6       212.6          118          9.57        7.5           7         2.03   \n",
       "7       211.8           96          9.53        7.1           6         1.92   \n",
       "8       215.8           90          9.71        8.7           4         2.35   \n",
       "9       326.4           97         14.69       11.2           5         3.02   \n",
       "\n",
       "   CustServ Calls  Old Churn  Churn  \n",
       "0               1     False.  False  \n",
       "1               1     False.  False  \n",
       "2               0     False.  False  \n",
       "3               2     False.  False  \n",
       "4               3     False.  False  \n",
       "5               0     False.  False  \n",
       "6               3     False.  False  \n",
       "7               0     False.  False  \n",
       "8               1     False.  False  \n",
       "9               0     False.  False  \n",
       "\n",
       "[10 rows x 22 columns]"
      ]
     },
     "execution_count": 71,
     "metadata": {},
     "output_type": "execute_result"
    }
   ],
   "source": [
    "#read in our churn dataset\n",
    "wd = \"C:/Users/Filipp/Documents/usd_data_sci/502_data mining/module1/Website Data Sets/\"\n",
    "df = pd.read_csv(wd+\"churn\")\n",
    "#sanity check\n",
    "df.head(10)"
   ]
  },
  {
   "cell_type": "markdown",
   "metadata": {},
   "source": [
    "<b>Question 28:</b> Partition the data set, so that 67% of the records are included in the training data set and 33% are included in the test data set. Use a bar graph to confirm your proportions."
   ]
  },
  {
   "cell_type": "code",
   "execution_count": 72,
   "metadata": {},
   "outputs": [
    {
     "data": {
      "text/plain": [
       "<AxesSubplot:xlabel='Cat'>"
      ]
     },
     "execution_count": 72,
     "metadata": {},
     "output_type": "execute_result"
    },
    {
     "data": {
      "image/png": "[encoded data removed]",
      "text/plain": [
       "<Figure size 432x288 with 1 Axes>"
      ]
     },
     "metadata": {
      "needs_background": "light"
     },
     "output_type": "display_data"
    }
   ],
   "source": [
    "import warnings\n",
    "warnings.filterwarnings('ignore')\n",
    "train, test = train_test_split(df, test_size =\n",
    "0.25, random_state = 7)\n",
    "\n",
    "train[\"Cat\"] = \"Train\"\n",
    "test[\"Cat\"] = \"Test\"\n",
    "\n",
    "df_verify = train.append(test)\n",
    "\n",
    "bargraph_1 = pd.crosstab(df_verify['Cat'],df_verify['Cat'])\n",
    "bargraph_1.plot(kind='bar',stacked=True)"
   ]
  },
  {
   "cell_type": "markdown",
   "metadata": {},
   "source": [
    "<b>Question 29</b>\n",
    "\n",
    "Identify the total number of records in the training data set and how many records in the\n",
    "training data set have a churn value of true."
   ]
  },
  {
   "cell_type": "code",
   "execution_count": 73,
   "metadata": {},
   "outputs": [
    {
     "name": "stdout",
     "output_type": "stream",
     "text": [
      "Churn  False  True \n",
      "Churn              \n",
      "False   2145      0\n",
      "True       0    354\n",
      "2499\n"
     ]
    }
   ],
   "source": [
    "#construct a contingency table \n",
    "crosstab_02 = pd.crosstab(train['Churn'], train['Churn'])\n",
    "print(crosstab_02)\n",
    "print(len(train))"
   ]
  },
  {
   "cell_type": "markdown",
   "metadata": {},
   "source": [
    "We have 2499 records total, 354 of which have a value of true."
   ]
  },
  {
   "cell_type": "markdown",
   "metadata": {},
   "source": [
    "<b>Question 30</b>\n",
    "Use your answers from the previous exercise to calculate how many true churn records\n",
    "you need to resample in order to have 20% of the rebalanced data set have true churn\n",
    "values."
   ]
  },
  {
   "cell_type": "code",
   "execution_count": 74,
   "metadata": {},
   "outputs": [
    {
     "data": {
      "text/plain": [
       "182.25"
      ]
     },
     "execution_count": 74,
     "metadata": {},
     "output_type": "execute_result"
    }
   ],
   "source": [
    "#formula\n",
    "def resample_size(n,p,rare):\n",
    "    return(((p*n)-rare)/(1-p))\n",
    "\n",
    "#we need 183 resamples to get 20%.\n",
    "resample_size(len(train),0.2,354)"
   ]
  },
  {
   "cell_type": "markdown",
   "metadata": {},
   "source": [
    "<b>Question 31</b>\n",
    "Perform the rebalancing described in the previous exercise and confirm that 20% of the\n",
    "records in the rebalanced data set have true churn values."
   ]
  },
  {
   "cell_type": "code",
   "execution_count": 82,
   "metadata": {},
   "outputs": [],
   "source": [
    "to_resample = train.loc[train['Churn']==True]\n",
    "our_resample = to_resample.sample(n=841,replace=True)\n",
    "train_rebal = pd.concat([train,our_resample])"
   ]
  },
  {
   "cell_type": "markdown",
   "metadata": {},
   "source": [
    "<b>Question 32 </b> Which baseline model do we use to compare our classification model performance\n",
    "against? To which value does this baseline model assign all predictions? What is the\n",
    "accuracy of this baseline model?\n",
    "\n",
    "We use the all negative (ie Churn = false) model as our baseline. This model assigns all predictions to the \n",
    "value \"no\" for churn. Our accuracy depends on whether or not our dataset is rebalanced - if it is, then \n",
    "we have 80% accuracy. Otherwise, our baseline model is 86% accurate."
   ]
  },
  {
   "cell_type": "markdown",
   "metadata": {},
   "source": [
    "<b>Question 33</b>\n",
    "Validate your partition by testing for the difference in mean day minutes for the training\n",
    "set versus the test set."
   ]
  },
  {
   "cell_type": "code",
   "execution_count": 90,
   "metadata": {},
   "outputs": [
    {
     "data": {
      "text/plain": [
       "Ttest_indResult(statistic=-0.505197628593401, pvalue=0.6134534588360927)"
      ]
     },
     "execution_count": 90,
     "metadata": {},
     "output_type": "execute_result"
    }
   ],
   "source": [
    "#pvalue of 61% confirms that we do not have enough evidence to reject the null hypotheses that there is \n",
    "#no systematic difference in day mins for our sets\n",
    "import scipy.stats as stats \n",
    "ttest = stats.ttest_ind(train['Day Mins'],test['Day Mins'])\n",
    "ttest"
   ]
  },
  {
   "cell_type": "markdown",
   "metadata": {},
   "source": [
    "<b>Question 34</b> Validate your partition by testing for the difference in proportion of true churn records for the training set versus the test set."
   ]
  },
  {
   "cell_type": "code",
   "execution_count": 94,
   "metadata": {},
   "outputs": [
    {
     "data": {
      "text/plain": [
       "0.35502839108645634"
      ]
     },
     "execution_count": 94,
     "metadata": {},
     "output_type": "execute_result"
    }
   ],
   "source": [
    "from statsmodels.stats.proportion import proportions_ztest\n",
    "count = np.array([354, 129])\n",
    "nobs = np.array([len(train), len(test)])\n",
    "stat, pval = proportions_ztest(count, nobs)\n",
    "\n",
    "pval"
   ]
  },
  {
   "cell_type": "markdown",
   "metadata": {},
   "source": [
    "we do not have enough evidence to reject the null hypothesis that there is no systemic difference between our sets for the churn record proportion."
   ]
  },
  {
   "cell_type": "markdown",
   "metadata": {},
   "source": [
    "<b>Chapter 7 - Page 109: </b>\n",
    "<p>Questions #23, 24, 25, 26, 27, 28, 29, & 30</p>\n",
    "We will be using the churn data set for these exercises. "
   ]
  },
  {
   "cell_type": "code",
   "execution_count": 119,
   "metadata": {},
   "outputs": [
    {
     "data": {
      "text/html": [
       "<div>\n",
       "<style scoped>\n",
       "    .dataframe tbody tr th:only-of-type {\n",
       "        vertical-align: middle;\n",
       "    }\n",
       "\n",
       "    .dataframe tbody tr th {\n",
       "        vertical-align: top;\n",
       "    }\n",
       "\n",
       "    .dataframe thead th {\n",
       "        text-align: right;\n",
       "    }\n",
       "</style>\n",
       "<table border=\"1\" class=\"dataframe\">\n",
       "  <thead>\n",
       "    <tr style=\"text-align: right;\">\n",
       "      <th></th>\n",
       "      <th>Marital status</th>\n",
       "      <th>Income</th>\n",
       "      <th>Cap_Gains_Losses</th>\n",
       "    </tr>\n",
       "  </thead>\n",
       "  <tbody>\n",
       "    <tr>\n",
       "      <th>0</th>\n",
       "      <td>Never-married</td>\n",
       "      <td>&lt;=50K</td>\n",
       "      <td>0.02174</td>\n",
       "    </tr>\n",
       "    <tr>\n",
       "      <th>1</th>\n",
       "      <td>Divorced</td>\n",
       "      <td>&lt;=50K</td>\n",
       "      <td>0.00000</td>\n",
       "    </tr>\n",
       "    <tr>\n",
       "      <th>2</th>\n",
       "      <td>Married</td>\n",
       "      <td>&lt;=50K</td>\n",
       "      <td>0.00000</td>\n",
       "    </tr>\n",
       "    <tr>\n",
       "      <th>3</th>\n",
       "      <td>Married</td>\n",
       "      <td>&lt;=50K</td>\n",
       "      <td>0.00000</td>\n",
       "    </tr>\n",
       "    <tr>\n",
       "      <th>4</th>\n",
       "      <td>Married</td>\n",
       "      <td>&lt;=50K</td>\n",
       "      <td>0.00000</td>\n",
       "    </tr>\n",
       "  </tbody>\n",
       "</table>\n",
       "</div>"
      ],
      "text/plain": [
       "  Marital status Income  Cap_Gains_Losses\n",
       "0  Never-married  <=50K           0.02174\n",
       "1       Divorced  <=50K           0.00000\n",
       "2        Married  <=50K           0.00000\n",
       "3        Married  <=50K           0.00000\n",
       "4        Married  <=50K           0.00000"
      ]
     },
     "execution_count": 119,
     "metadata": {},
     "output_type": "execute_result"
    }
   ],
   "source": [
    "train = pd.read_csv(wd + \"adult_ch6_training\")\n",
    "test =  pd.read_csv(wd + \"adult_ch6_test\")\n",
    "train.head()"
   ]
  },
  {
   "cell_type": "markdown",
   "metadata": {},
   "source": [
    "<b>Question 23</b>\n",
    "Using the training data set, create a C5.0 model (Model 1) to predict a customer’s Income\n",
    "using Marital Status and Capital Gains and Losses. Obtain the predicted responses."
   ]
  },
  {
   "cell_type": "code",
   "execution_count": 120,
   "metadata": {},
   "outputs": [
    {
     "data": {
      "image/png": "[encoded data removed]",
      "text/plain": [
       "<Figure size 432x288 with 1 Axes>"
      ]
     },
     "metadata": {
      "needs_background": "light"
     },
     "output_type": "display_data"
    }
   ],
   "source": [
    "import warnings\n",
    "warnings.filterwarnings('ignore')\n",
    "adult_tr = train \n",
    "y = adult_tr[['Income']]\n",
    "mar_np = np.array(adult_tr['Marital status'])\n",
    "(mar_cat, mar_cat_dict) = stattools.categorical(mar_np,drop=True, dictnames = True)\n",
    "\n",
    "mar_cat_pd = pd.DataFrame(mar_cat)\n",
    "X = pd.concat((adult_tr[['Cap_Gains_Losses']], mar_cat_pd), axis = 1)\n",
    "\n",
    "X_names = [\"Cap_Gains_Losses\", \"Divorced\", \"Married\",\"Never-married\",\"Separated\", \"Widowed\"]\n",
    "\n",
    "y_names = [\"<=50K\", \">50K\"]\n",
    "c50_01 = DecisionTreeClassifier(criterion=\"entropy\",max_leaf_nodes=5).fit(X,y)\n",
    "tree.plot_tree(c50_01,feature_names=X_names,class_names=y_names,filled=\"true\");\n",
    "\n",
    "#and now we use this model to predict for our test data.\n",
    "#first, we transform our marital status to a categorical variable and bind it to our cap gains.\n",
    "adult_test = test\n",
    "y = adult_test[['Income']]\n",
    "mar_np = np.array(adult_test['Marital status'])\n",
    "(mar_cat, mar_cat_dict) = stattools.categorical(mar_np,drop=True, dictnames = True)\n",
    "mar_cat_pd = pd.DataFrame(mar_cat)\n",
    "X_test = pd.concat((adult_test[['Cap_Gains_Losses']], mar_cat_pd), axis = 1)\n",
    "\n",
    "#we can now predict for our test data with our C5 model.\n",
    "#this returns an array of predicted values.\n",
    "pred = c50_01.predict(X_test)\n",
    "\n",
    "#convert our array into a dataframe and combine it with the actual incomes.\n",
    "pred = pd.DataFrame(pred.tolist(),columns=[\"predicted\"])\n",
    "actual = pd.DataFrame(adult_test.Income)\n",
    "results = pd.concat([pred,actual],axis=1)"
   ]
  },
  {
   "cell_type": "markdown",
   "metadata": {},
   "source": [
    "<b>Question 24</b>\n",
    "Evaluate Model 1 using the test data set. Construct a contingency table to compare the\n",
    "actual and predicted values of Income."
   ]
  },
  {
   "cell_type": "code",
   "execution_count": 121,
   "metadata": {},
   "outputs": [
    {
     "name": "stdout",
     "output_type": "stream",
     "text": [
      "Income     <=50K  >50K\n",
      "predicted             \n",
      "<=50K       4627  1141\n",
      ">50K          47   340\n"
     ]
    }
   ],
   "source": [
    "#construct a contingency table \n",
    "crosstab = pd.crosstab(results['predicted'], results['Income'])\n",
    "print(crosstab)"
   ]
  },
  {
   "cell_type": "markdown",
   "metadata": {},
   "source": [
    "<b>Question 25 </b>\n",
    "For Model 1, recapitulate Table 7.4 from the text, calculating all of the model evaluation\n",
    "measures shown in the table. Call this table the Model Evaluation Table. Leave space\n",
    "for Model 2."
   ]
  },
  {
   "cell_type": "code",
   "execution_count": 122,
   "metadata": {},
   "outputs": [],
   "source": [
    "results.loc[results['predicted']=='<=50K','predicted']=0\n",
    "results.loc[results['predicted']=='>50K','predicted']=1\n",
    "results.loc[results['Income']=='<=50K','Income']=0\n",
    "results.loc[results['Income']=='>50K','Income']=1"
   ]
  },
  {
   "cell_type": "code",
   "execution_count": 133,
   "metadata": {},
   "outputs": [],
   "source": [
    "tp = len(results.loc[(results['predicted']==1) & (results['Income']==1)])\n",
    "fp = len(results.loc[(results['predicted']==1) & (results['Income']==0)])\n",
    "fn = len(results.loc[(results['predicted']==0) & (results['Income']==1)])\n",
    "tn = len(results.loc[(results['predicted']==0) & (results['Income']==0)])"
   ]
  },
  {
   "cell_type": "code",
   "execution_count": 137,
   "metadata": {},
   "outputs": [
    {
     "name": "stdout",
     "output_type": "stream",
     "text": [
      "0.8069861900893582\n",
      "0.22957461174881835\n",
      "0.9899443731279418\n",
      "0.8785529715762274\n",
      "0.19301380991064176\n",
      "0.9309283453591608\n",
      "2.327320863397902\n",
      "0.5818302158494755\n"
     ]
    }
   ],
   "source": [
    "#define relevant formulas\n",
    "def accuracy(tp,tn,fp,fn):\n",
    "    n = tp+tn+fp+fn\n",
    "    return((tp+tn)/n)\n",
    "\n",
    "def sensitivity(TP,FN):\n",
    "    return (TP/(TP+FN))\n",
    "\n",
    "def specificity(FP,TN):\n",
    "    return (TN/(FP+TN))\n",
    "\n",
    "def precision(TP,FP):\n",
    "    return (TP/(TP+FP))\n",
    "\n",
    "\n",
    "def recall(TN,FP):\n",
    "    return (TN/(TN+FP))\n",
    "\n",
    "\n",
    "def error_rate(accuracy):\n",
    "    return (1-accuracy)\n",
    "\n",
    "\n",
    "def f_1(precision,recall):\n",
    "    numerator = precision * recall \n",
    "    denominator = precision + recall \n",
    "    return ( 2 * numerator/denominator)\n",
    "\n",
    "\n",
    "def f_2(precision,recall):\n",
    "    numerator = precision * recall \n",
    "    denominator = precision + recall \n",
    "    return ( 5* (numerator/denominator))\n",
    "\n",
    "def f_half(precision,recall):\n",
    "    numerator = precision * recall \n",
    "    denominator = precision + recall \n",
    "    return ( 1.25 * numerator/denominator)\n",
    "\n",
    "a = accuracy(tp,tn,fp,fn)\n",
    "se=sensitivity(tp,fn)\n",
    "sp=specificity(fp,tn)\n",
    "p = precision(tp,fp)\n",
    "r = recall(tn,fp)\n",
    "er=error_rate(a)\n",
    "fone = f_1(p,r)\n",
    "ftwo = f_2(p,r)\n",
    "fhalf= f_half(p,r)\n",
    "\n",
    "print(a)\n",
    "print(se)\n",
    "print(sp)\n",
    "print(p)\n",
    "print(er)\n",
    "print(fone)\n",
    "print(ftwo)\n",
    "print(fhalf)"
   ]
  },
  {
   "cell_type": "markdown",
   "metadata": {},
   "source": [
    "<b>Question 26: </b>\n",
    "Clearly and completely interpret each of the Model 1 evaluation measures from the Model Evaluation Table.\n",
    "\n",
    "Accuracy: Ability to correctly identify classes as a fraction of the total \n",
    "number of classifications.\n",
    "Our model was 81% accurate.\n",
    "\n",
    "Sensitivity: Ability to identify records as positive. Our sensitivity is low,\n",
    "so we do not do a good job of identifying \"positive instances\", or cases of high income individuals.\n",
    "\n",
    "Specificity: Ability to identify records as negative. Our specificity was \n",
    "high, so we can identify low income individuals well.\n",
    "\n",
    "Precision: the proportion of true positives to false positives,\n",
    "answers which selected items are relevant. our precision \n",
    "was fairly high, which means most identified high income individuals were\n",
    "correctly picked.\n",
    "\n",
    "error rate: how inaccurate our model was at identifying either income \n",
    "class correctly. our error rate is fairly high.\n",
    "\n",
    "F1,2,0.5: haromic weights of precision and recall.\n",
    "F1 weighs these equally, F2 weights recall more,\n",
    "and F0.5 weighs precision more. \n",
    "\n",
    "Our model does relatively well when we weigh precision and recall equally,\n",
    "incredibly well when we weigh recall more than precision (ie, when we care more about low income identification),\n",
    "and very poorly when we give more weight to high income identification."
   ]
  },
  {
   "cell_type": "markdown",
   "metadata": {},
   "source": [
    "<b>Question 27:</b>\n",
    "Create a cost matrix, called the 3x cost matrix, that specifies a false positive is four times\n",
    "as bad as a false negative."
   ]
  },
  {
   "cell_type": "code",
   "execution_count": 141,
   "metadata": {},
   "outputs": [],
   "source": [
    "cost_matrix_3x = {'<=50K':1,'>50K':3}"
   ]
  },
  {
   "cell_type": "markdown",
   "metadata": {},
   "source": [
    "<b>Question 28:</b> Using the training data set, build a C5.0 model (Model 2) to predict a customer’s Income using Marital Status and Capital Gains and Losses, using the 3x cost matrix."
   ]
  },
  {
   "cell_type": "code",
   "execution_count": 151,
   "metadata": {},
   "outputs": [],
   "source": [
    "adult_tr = train \n",
    "y = adult_tr[['Income']]\n",
    "mar_np = np.array(adult_tr['Marital status'])\n",
    "(mar_cat, mar_cat_dict) = stattools.categorical(mar_np,drop=True, dictnames = True)\n",
    "\n",
    "mar_cat_pd = pd.DataFrame(mar_cat)\n",
    "X = pd.concat((adult_tr[['Cap_Gains_Losses']], mar_cat_pd), axis = 1)\n",
    "\n",
    "X_names = [\"Cap_Gains_Losses\", \"Divorced\", \"Married\",\"Never-married\",\"Separated\", \"Widowed\"]\n",
    "\n",
    "y_names = [\"<=50K\", \">50K\"]\n",
    "c50_02 = DecisionTreeClassifier(criterion=\"entropy\",min_samples_split=75,max_leaf_nodes=5,class_weight=cost_matrix_3x).fit(X,y)\n",
    "\n",
    "adult_test = test\n",
    "y = adult_test[['Income']]\n",
    "mar_np = np.array(adult_test['Marital status'])\n",
    "(mar_cat, mar_cat_dict) = stattools.categorical(mar_np,drop=True, dictnames = True)\n",
    "mar_cat_pd = pd.DataFrame(mar_cat)\n",
    "X_test = pd.concat((adult_test[['Cap_Gains_Losses']], mar_cat_pd), axis = 1)\n",
    "\n",
    "#we can now predict for our test data with our C5 model.\n",
    "#this returns an array of predicted values.\n",
    "pred = c50_02.predict(X_test)\n",
    "\n",
    "#convert our array into a dataframe and combine it with the actual incomes.\n",
    "pred = pd.DataFrame(pred.tolist(),columns=[\"predicted\"])\n",
    "actual = pd.DataFrame(adult_test.Income)\n",
    "results = pd.concat([pred,actual],axis=1)"
   ]
  },
  {
   "cell_type": "markdown",
   "metadata": {},
   "source": [
    "<b>Question 29:</b> Evaluate your predictions from Model 2 using the actual response values from the test data set. Add Overall Model Cost and Profit per Customer to the Model Evaluation Table. Calculate all the measures from the Model Evaluation Table."
   ]
  },
  {
   "cell_type": "code",
   "execution_count": 152,
   "metadata": {},
   "outputs": [
    {
     "name": "stdout",
     "output_type": "stream",
     "text": [
      "0.7104792851340374\n",
      "0.8993923024983119\n",
      "0.6506204535729568\n",
      "0.44924114671163573\n",
      "0.28952071486596265\n",
      "0.5314950145755247\n",
      "1.3287375364388119\n",
      "0.33218438410970297\n",
      "6681\n",
      "-1.0854589764419171\n"
     ]
    }
   ],
   "source": [
    "results.loc[results['predicted']=='<=50K','predicted']=0\n",
    "results.loc[results['predicted']=='>50K','predicted']=1\n",
    "results.loc[results['Income']=='<=50K','Income']=0\n",
    "results.loc[results['Income']=='>50K','Income']=1\n",
    "\n",
    "tp = len(results.loc[(results['predicted']==1) & (results['Income']==1)])\n",
    "fp = len(results.loc[(results['predicted']==1) & (results['Income']==0)])\n",
    "fn = len(results.loc[(results['predicted']==0) & (results['Income']==1)])\n",
    "tn = len(results.loc[(results['predicted']==0) & (results['Income']==0)])\n",
    "\n",
    "overall_cost = (tn*0)+(fp*4)+(fn*1)+(tp*0)\n",
    "profit_per_customer = -1 * overall_cost / len(test)\n",
    "\n",
    "a = accuracy(tp,tn,fp,fn)\n",
    "se=sensitivity(tp,fn)\n",
    "sp=specificity(fp,tn)\n",
    "p = precision(tp,fp)\n",
    "r = recall(tn,fp)\n",
    "er=error_rate(a)\n",
    "fone = f_1(p,r)\n",
    "ftwo = f_2(p,r)\n",
    "fhalf= f_half(p,r)\n",
    "\n",
    "print(a)\n",
    "print(se)\n",
    "print(sp)\n",
    "print(p)\n",
    "print(er)\n",
    "print(fone)\n",
    "print(ftwo)\n",
    "print(fhalf)\n",
    "print(overall_cost)\n",
    "print(profit_per_customer)"
   ]
  },
  {
   "cell_type": "markdown",
   "metadata": {},
   "source": [
    "<b>Question 30:</b> Compare the evaluation measures from Model 1 and Model 2 using the 3x cost matrix. Discuss the strengths and weaknesses of each model."
   ]
  },
  {
   "cell_type": "markdown",
   "metadata": {},
   "source": [
    "\n",
    "M1 outperforms on accuracy, specificity, precision, error rate, and all three harmonic means.\n",
    "M2 outperforms on sensitivity. \n",
    "In this instance, the ability to avoid false positives is paramount due to our error costs (ie income>50k).\n",
    "Therefore, precision is key. M1 is the better model."
   ]
  },
  {
   "cell_type": "markdown",
   "metadata": {},
   "source": [
    "<h3>Chapter 8 - Page 126: Questions #31, 32, 33, & 34</h3>\n",
    "For the following exercises, work with the framingham_nb_training and framingham_nb_test data sets. \n",
    "Use either Python or R to solve each problem."
   ]
  },
  {
   "cell_type": "code",
   "execution_count": 172,
   "metadata": {},
   "outputs": [
    {
     "name": "stdout",
     "output_type": "stream",
     "text": [
      "Sex      1    2  Total\n",
      "Death                 \n",
      "0      184  266    450\n",
      "1      308  242    550\n",
      "Total  492  508   1000\n",
      "Educ     1    2    3   4  Total\n",
      "Death                          \n",
      "0      173  146   84  47    450\n",
      "1      287  135   80  48    550\n",
      "Total  460  281  164  95   1000\n"
     ]
    }
   ],
   "source": [
    "train = pd.read_csv(wd+\"framingham_nb_training.csv\")\n",
    "test =  pd.read_csv(wd+\"framingham_nb_test.csv\")\n",
    "\n",
    "# get tabulation for probabilities \n",
    "t1 = pd.crosstab(train['Death'], train['Sex'])\n",
    "t1['Total'] = t1.sum(axis=1)\n",
    "t1.loc['Total'] = t1.sum()\n",
    "print(t1)\n",
    "\n",
    "t1 = pd.crosstab(train['Death'], train['Educ'])\n",
    "t1['Total'] = t1.sum(axis=1)\n",
    "t1.loc['Total'] = t1.sum()\n",
    "print(t1)\n"
   ]
  },
  {
   "cell_type": "markdown",
   "metadata": {},
   "source": [
    "<b>31:</b> Run the Naïve Bayes classifier to classify persons as living or dead based on sex and\n",
    "education."
   ]
  },
  {
   "cell_type": "code",
   "execution_count": 178,
   "metadata": {},
   "outputs": [],
   "source": [
    "from sklearn.naive_bayes import MultinomialNB\n",
    "import statsmodels.tools.tools as stattools"
   ]
  },
  {
   "cell_type": "code",
   "execution_count": 181,
   "metadata": {},
   "outputs": [],
   "source": [
    "#categorize \n",
    "X_Sex_ind = np.array(train['Sex'])\n",
    "(X_Sex_ind , X_Sex_ind_dict) = stattools.categorical(X_Sex_ind,drop=True, dictnames = True)\n",
    "X_Sex_ind = pd.DataFrame(X_Sex_ind)\n",
    "X_Educ_ind = np.array(train['Educ'])\n",
    "(X_Educ_ind , X_Educ_ind_dict) = stattools.categorical(X_Educ_ind,drop=True, dictnames = True)\n",
    "X_Educ_ind = pd.DataFrame(X_Educ_ind)\n",
    "X = pd.concat((X_Sex_ind, X_Educ_ind), axis = 1)\n",
    "\n",
    "#Finally, we move on to the Naïve Bayes algorithm.\n",
    "Y = train.Death\n",
    "nb_01 = MultinomialNB().fit(X, Y)"
   ]
  },
  {
   "cell_type": "code",
   "execution_count": 183,
   "metadata": {},
   "outputs": [],
   "source": [
    "#test data \n",
    "X_Sex_ind = np.array(test['Sex'])\n",
    "(X_Sex_ind , X_Sex_ind_dict) = stattools.categorical(X_Sex_ind,drop=True, dictnames = True)\n",
    "X_Sex_ind = pd.DataFrame(X_Sex_ind)\n",
    "X_Educ_ind = np.array(test['Educ'])\n",
    "(X_Educ_ind , X_Educ_ind_dict) = stattools.categorical(X_Educ_ind,drop=True, dictnames = True)\n",
    "X_Educ_ind = pd.DataFrame(X_Educ_ind)\n",
    "X_test = pd.concat((X_Sex_ind, X_Educ_ind), axis = 1)\n",
    "\n",
    "#predict based on test data and generate contingency table for prediction \n",
    "Y_predicted = nb_01.predict(X_test)"
   ]
  },
  {
   "cell_type": "markdown",
   "metadata": {},
   "source": [
    "<b>32.</b>\n",
    "\n",
    "Evaluate the Naïve Bayes model on the framingham_nb_test data set. Display the results in a contingency table. Edit the row and column names of the table to make the table more readable. Include a total row and column."
   ]
  },
  {
   "cell_type": "code",
   "execution_count": 184,
   "metadata": {},
   "outputs": [
    {
     "data": {
      "text/html": [
       "<div>\n",
       "<style scoped>\n",
       "    .dataframe tbody tr th:only-of-type {\n",
       "        vertical-align: middle;\n",
       "    }\n",
       "\n",
       "    .dataframe tbody tr th {\n",
       "        vertical-align: top;\n",
       "    }\n",
       "\n",
       "    .dataframe thead th {\n",
       "        text-align: right;\n",
       "    }\n",
       "</style>\n",
       "<table border=\"1\" class=\"dataframe\">\n",
       "  <thead>\n",
       "    <tr style=\"text-align: right;\">\n",
       "      <th>Predicted</th>\n",
       "      <th>0</th>\n",
       "      <th>1</th>\n",
       "      <th>Total</th>\n",
       "    </tr>\n",
       "    <tr>\n",
       "      <th>Actual</th>\n",
       "      <th></th>\n",
       "      <th></th>\n",
       "      <th></th>\n",
       "    </tr>\n",
       "  </thead>\n",
       "  <tbody>\n",
       "    <tr>\n",
       "      <th>0</th>\n",
       "      <td>203</td>\n",
       "      <td>322</td>\n",
       "      <td>525</td>\n",
       "    </tr>\n",
       "    <tr>\n",
       "      <th>1</th>\n",
       "      <td>105</td>\n",
       "      <td>370</td>\n",
       "      <td>475</td>\n",
       "    </tr>\n",
       "    <tr>\n",
       "      <th>Total</th>\n",
       "      <td>308</td>\n",
       "      <td>692</td>\n",
       "      <td>1000</td>\n",
       "    </tr>\n",
       "  </tbody>\n",
       "</table>\n",
       "</div>"
      ],
      "text/plain": [
       "Predicted    0    1  Total\n",
       "Actual                    \n",
       "0          203  322    525\n",
       "1          105  370    475\n",
       "Total      308  692   1000"
      ]
     },
     "execution_count": 184,
     "metadata": {},
     "output_type": "execute_result"
    }
   ],
   "source": [
    "ypred = pd.crosstab(test['Death'], Y_predicted,\n",
    "rownames = ['Actual'],\n",
    "colnames = ['Predicted'])\n",
    "ypred['Total'] = ypred.sum(axis=1); ypred.loc['Total'] =ypred.sum()\n",
    "ypred"
   ]
  },
  {
   "cell_type": "markdown",
   "metadata": {},
   "source": [
    "<b>33:</b>According to your table in the previous exercise, find the following values for the Naïve\n",
    "Bayes model:\n",
    "a. Accuracy\n",
    "b. Error rate\n"
   ]
  },
  {
   "cell_type": "code",
   "execution_count": 190,
   "metadata": {},
   "outputs": [
    {
     "name": "stdout",
     "output_type": "stream",
     "text": [
      "0.573\n",
      "0.42700000000000005\n"
     ]
    }
   ],
   "source": [
    "tn = ypred[0][0]\n",
    "tp = ypred[1][1]\n",
    "fn = ypred[0][1]\n",
    "fp = ypred[1][0]\n",
    "\n",
    "a = accuracy(tp,tn,fn,fp)\n",
    "print(a)\n",
    "print(1-a)"
   ]
  },
  {
   "cell_type": "markdown",
   "metadata": {},
   "source": [
    "<b>34:</b>According to your contingency table, find the following values for the Naïve Bayes model:\n",
    "<p>a. How often it correctly classifies dead persons.\n",
    "b. How often it correctly classifies living persons.</p>"
   ]
  },
  {
   "cell_type": "code",
   "execution_count": 192,
   "metadata": {},
   "outputs": [
    {
     "name": "stdout",
     "output_type": "stream",
     "text": [
      "0.37\n",
      "0.203\n"
     ]
    }
   ],
   "source": [
    "#a\n",
    "print(tp/len(test))\n",
    "#b\n",
    "print(tn/len(test))"
   ]
  },
  {
   "cell_type": "code",
   "execution_count": null,
   "metadata": {},
   "outputs": [],
   "source": []
  }
 ],
 "metadata": {
  "kernelspec": {
   "display_name": "Python 3",
   "language": "python",
   "name": "python3"
  },
  "language_info": {
   "codemirror_mode": {
    "name": "ipython",
    "version": 3
   },
   "file_extension": ".py",
   "mimetype": "text/x-python",
   "name": "python",
   "nbconvert_exporter": "python",
   "pygments_lexer": "ipython3",
   "version": "3.8.5"
  }
 },
 "nbformat": 4,
 "nbformat_minor": 4
}
