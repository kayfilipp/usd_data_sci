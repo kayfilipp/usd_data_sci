{
 "cells": [
  {
   "cell_type": "markdown",
   "metadata": {},
   "source": [
    "<h1> Module 1 Exercises for Python </h1>\n",
    "<h2> Filipp Krasovsky, 3-8-21 </h2>"
   ]
  },
  {
   "cell_type": "code",
   "execution_count": 2,
   "metadata": {},
   "outputs": [],
   "source": [
    "import pandas as pd\n",
    "import numpy as np "
   ]
  },
  {
   "cell_type": "code",
   "execution_count": 5,
   "metadata": {},
   "outputs": [],
   "source": [
    "#import data set \n",
    "df = pd.read_csv(\"C:/Users/Filipp/Documents/usd_data_sci/502_data mining/module1/Website Data Sets/nutrition_subset.csv\")"
   ]
  },
  {
   "cell_type": "code",
   "execution_count": 8,
   "metadata": {},
   "outputs": [
    {
     "data": {
      "text/html": [
       "<div>\n",
       "<style scoped>\n",
       "    .dataframe tbody tr th:only-of-type {\n",
       "        vertical-align: middle;\n",
       "    }\n",
       "\n",
       "    .dataframe tbody tr th {\n",
       "        vertical-align: top;\n",
       "    }\n",
       "\n",
       "    .dataframe thead th {\n",
       "        text-align: right;\n",
       "    }\n",
       "</style>\n",
       "<table border=\"1\" class=\"dataframe\">\n",
       "  <thead>\n",
       "    <tr style=\"text-align: right;\">\n",
       "      <th></th>\n",
       "      <th>food item</th>\n",
       "      <th>weight_in_grams</th>\n",
       "      <th>saturated_fat</th>\n",
       "      <th>cholesterol</th>\n",
       "    </tr>\n",
       "  </thead>\n",
       "  <tbody>\n",
       "    <tr>\n",
       "      <th>0</th>\n",
       "      <td>GELATIN; DRY                  1 ENVELP</td>\n",
       "      <td>7.00</td>\n",
       "      <td>0.0</td>\n",
       "      <td>0</td>\n",
       "    </tr>\n",
       "    <tr>\n",
       "      <th>1</th>\n",
       "      <td>SEAWEED; SPIRULINA; DRIED     1 OZ</td>\n",
       "      <td>28.35</td>\n",
       "      <td>0.8</td>\n",
       "      <td>0</td>\n",
       "    </tr>\n",
       "    <tr>\n",
       "      <th>2</th>\n",
       "      <td>YEAST; BAKERS; DRY; ACTIVE    1 PKG</td>\n",
       "      <td>7.00</td>\n",
       "      <td>0.0</td>\n",
       "      <td>0</td>\n",
       "    </tr>\n",
       "    <tr>\n",
       "      <th>3</th>\n",
       "      <td>PARMESAN CHEESE; GRATED       1 OZ</td>\n",
       "      <td>28.35</td>\n",
       "      <td>5.4</td>\n",
       "      <td>22</td>\n",
       "    </tr>\n",
       "    <tr>\n",
       "      <th>4</th>\n",
       "      <td>PARMESAN CHEESE; GRATED       1 CUP</td>\n",
       "      <td>100.00</td>\n",
       "      <td>19.1</td>\n",
       "      <td>79</td>\n",
       "    </tr>\n",
       "  </tbody>\n",
       "</table>\n",
       "</div>"
      ],
      "text/plain": [
       "                                food item  weight_in_grams  saturated_fat  \\\n",
       "0  GELATIN; DRY                  1 ENVELP             7.00            0.0   \n",
       "1  SEAWEED; SPIRULINA; DRIED     1 OZ                28.35            0.8   \n",
       "2  YEAST; BAKERS; DRY; ACTIVE    1 PKG                7.00            0.0   \n",
       "3  PARMESAN CHEESE; GRATED       1 OZ                28.35            5.4   \n",
       "4  PARMESAN CHEESE; GRATED       1 CUP              100.00           19.1   \n",
       "\n",
       "   cholesterol  \n",
       "0            0  \n",
       "1            0  \n",
       "2            0  \n",
       "3           22  \n",
       "4           79  "
      ]
     },
     "execution_count": 8,
     "metadata": {},
     "output_type": "execute_result"
    }
   ],
   "source": [
    "#sanity check\n",
    "df.head()"
   ]
  },
  {
   "cell_type": "markdown",
   "metadata": {},
   "source": [
    "<b>Question 21 - Ch.3</b>\n",
    "The elements in the data set are food items of various sizes, ranging from a teaspoon of\n",
    "cinnamon to an entire carrot cake.\n",
    "a. Sort the data set by the saturated fat (saturated_ fat) and produce a listing of the five\n",
    "food items highest in saturated fat.\n",
    "b. Comment on the validity of comparing"
   ]
  },
  {
   "cell_type": "code",
   "execution_count": 12,
   "metadata": {},
   "outputs": [
    {
     "data": {
      "text/html": [
       "<div>\n",
       "<style scoped>\n",
       "    .dataframe tbody tr th:only-of-type {\n",
       "        vertical-align: middle;\n",
       "    }\n",
       "\n",
       "    .dataframe tbody tr th {\n",
       "        vertical-align: top;\n",
       "    }\n",
       "\n",
       "    .dataframe thead th {\n",
       "        text-align: right;\n",
       "    }\n",
       "</style>\n",
       "<table border=\"1\" class=\"dataframe\">\n",
       "  <thead>\n",
       "    <tr style=\"text-align: right;\">\n",
       "      <th></th>\n",
       "      <th>food item</th>\n",
       "      <th>weight_in_grams</th>\n",
       "      <th>saturated_fat</th>\n",
       "      <th>cholesterol</th>\n",
       "    </tr>\n",
       "  </thead>\n",
       "  <tbody>\n",
       "    <tr>\n",
       "      <th>378</th>\n",
       "      <td>CHEESECAKE                    1 CAKE</td>\n",
       "      <td>1110.0</td>\n",
       "      <td>119.9</td>\n",
       "      <td>2053</td>\n",
       "    </tr>\n",
       "    <tr>\n",
       "      <th>535</th>\n",
       "      <td>ICE CREAM; VANLLA; RICH 16% FT1/2 GAL</td>\n",
       "      <td>1188.0</td>\n",
       "      <td>118.3</td>\n",
       "      <td>703</td>\n",
       "    </tr>\n",
       "    <tr>\n",
       "      <th>458</th>\n",
       "      <td>YELLOWCAKE W/ CHOCFRSTNG;COMML1 CAKE</td>\n",
       "      <td>1108.0</td>\n",
       "      <td>92.0</td>\n",
       "      <td>609</td>\n",
       "    </tr>\n",
       "    <tr>\n",
       "      <th>581</th>\n",
       "      <td>CREME PIE                     1 PIE</td>\n",
       "      <td>910.0</td>\n",
       "      <td>90.1</td>\n",
       "      <td>46</td>\n",
       "    </tr>\n",
       "    <tr>\n",
       "      <th>890</th>\n",
       "      <td>LARD                          1 CUP</td>\n",
       "      <td>205.0</td>\n",
       "      <td>80.4</td>\n",
       "      <td>195</td>\n",
       "    </tr>\n",
       "  </tbody>\n",
       "</table>\n",
       "</div>"
      ],
      "text/plain": [
       "                                  food item  weight_in_grams  saturated_fat  \\\n",
       "378  CHEESECAKE                    1 CAKE             1110.0          119.9   \n",
       "535  ICE CREAM; VANLLA; RICH 16% FT1/2 GAL            1188.0          118.3   \n",
       "458  YELLOWCAKE W/ CHOCFRSTNG;COMML1 CAKE             1108.0           92.0   \n",
       "581  CREME PIE                     1 PIE               910.0           90.1   \n",
       "890  LARD                          1 CUP               205.0           80.4   \n",
       "\n",
       "     cholesterol  \n",
       "378         2053  \n",
       "535          703  \n",
       "458          609  \n",
       "581           46  \n",
       "890          195  "
      ]
     },
     "execution_count": 12,
     "metadata": {},
     "output_type": "execute_result"
    }
   ],
   "source": [
    "df_sorted = df.sort_values(by=['saturated_fat'],ascending=False)\n",
    "df_sorted.head()"
   ]
  },
  {
   "cell_type": "markdown",
   "metadata": {},
   "source": [
    "Comparrisons are not valid due to the variation in serving sizes (weight_in_grams)."
   ]
  },
  {
   "cell_type": "markdown",
   "metadata": {},
   "source": [
    "<b>Question 22 - Ch. 3 </b>\n",
    "Derive a new variable, saturated_ fat_per_gram, by dividing the amount of saturated fat\n",
    "by the weight in grams.\n",
    "a. Sort the data set by saturated_ fat_per_gram and produce a listing of the five food\n",
    "items highest in saturated fat per gram.\n",
    "b. Which food has the most saturated fat per gram?"
   ]
  },
  {
   "cell_type": "code",
   "execution_count": 16,
   "metadata": {},
   "outputs": [
    {
     "data": {
      "text/html": [
       "<div>\n",
       "<style scoped>\n",
       "    .dataframe tbody tr th:only-of-type {\n",
       "        vertical-align: middle;\n",
       "    }\n",
       "\n",
       "    .dataframe tbody tr th {\n",
       "        vertical-align: top;\n",
       "    }\n",
       "\n",
       "    .dataframe thead th {\n",
       "        text-align: right;\n",
       "    }\n",
       "</style>\n",
       "<table border=\"1\" class=\"dataframe\">\n",
       "  <thead>\n",
       "    <tr style=\"text-align: right;\">\n",
       "      <th></th>\n",
       "      <th>food item</th>\n",
       "      <th>weight_in_grams</th>\n",
       "      <th>saturated_fat</th>\n",
       "      <th>cholesterol</th>\n",
       "      <th>saturated_fat_per_gram</th>\n",
       "    </tr>\n",
       "  </thead>\n",
       "  <tbody>\n",
       "    <tr>\n",
       "      <th>908</th>\n",
       "      <td>BUTTER; SALTED                1 TBSP</td>\n",
       "      <td>14.0</td>\n",
       "      <td>7.1</td>\n",
       "      <td>31</td>\n",
       "      <td>0.507143</td>\n",
       "    </tr>\n",
       "    <tr>\n",
       "      <th>909</th>\n",
       "      <td>BUTTER; UNSALTED              1 TBSP</td>\n",
       "      <td>14.0</td>\n",
       "      <td>7.1</td>\n",
       "      <td>31</td>\n",
       "      <td>0.507143</td>\n",
       "    </tr>\n",
       "    <tr>\n",
       "      <th>710</th>\n",
       "      <td>BUTTER; UNSALTED              1/2 CUP</td>\n",
       "      <td>113.0</td>\n",
       "      <td>57.1</td>\n",
       "      <td>247</td>\n",
       "      <td>0.505310</td>\n",
       "    </tr>\n",
       "    <tr>\n",
       "      <th>709</th>\n",
       "      <td>BUTTER; SALTED                1/2 CUP</td>\n",
       "      <td>113.0</td>\n",
       "      <td>57.1</td>\n",
       "      <td>247</td>\n",
       "      <td>0.505310</td>\n",
       "    </tr>\n",
       "    <tr>\n",
       "      <th>913</th>\n",
       "      <td>BUTTER; UNSALTED              1 PAT</td>\n",
       "      <td>5.0</td>\n",
       "      <td>2.5</td>\n",
       "      <td>11</td>\n",
       "      <td>0.500000</td>\n",
       "    </tr>\n",
       "  </tbody>\n",
       "</table>\n",
       "</div>"
      ],
      "text/plain": [
       "                                  food item  weight_in_grams  saturated_fat  \\\n",
       "908  BUTTER; SALTED                1 TBSP               14.0            7.1   \n",
       "909  BUTTER; UNSALTED              1 TBSP               14.0            7.1   \n",
       "710  BUTTER; UNSALTED              1/2 CUP             113.0           57.1   \n",
       "709  BUTTER; SALTED                1/2 CUP             113.0           57.1   \n",
       "913  BUTTER; UNSALTED              1 PAT                 5.0            2.5   \n",
       "\n",
       "     cholesterol  saturated_fat_per_gram  \n",
       "908           31                0.507143  \n",
       "909           31                0.507143  \n",
       "710          247                0.505310  \n",
       "709          247                0.505310  \n",
       "913           11                0.500000  "
      ]
     },
     "execution_count": 16,
     "metadata": {},
     "output_type": "execute_result"
    }
   ],
   "source": [
    "df['saturated_fat_per_gram'] = df['saturated_fat'] / df['weight_in_grams']\n",
    "df_sorted = df.sort_values(by=['saturated_fat_per_gram'],ascending=False)\n",
    "df_sorted.head()"
   ]
  },
  {
   "cell_type": "markdown",
   "metadata": {},
   "source": [
    "<b>The food with the highest saturated fat per gram is butter (salted)</b>"
   ]
  },
  {
   "cell_type": "markdown",
   "metadata": {},
   "source": [
    "<b> Question 23 - Ch. 3 </b>\n",
    "\n",
    "Derive a new variable, cholesterol_per_gram.\n",
    "a. Sort the data set by cholesterol_per_gram and produce a listing of the five food\n",
    "items highest in cholesterol fat per gram.\n",
    "b. Which food has the most cholesterol fat per gram?"
   ]
  },
  {
   "cell_type": "code",
   "execution_count": 18,
   "metadata": {},
   "outputs": [
    {
     "data": {
      "text/html": [
       "<div>\n",
       "<style scoped>\n",
       "    .dataframe tbody tr th:only-of-type {\n",
       "        vertical-align: middle;\n",
       "    }\n",
       "\n",
       "    .dataframe tbody tr th {\n",
       "        vertical-align: top;\n",
       "    }\n",
       "\n",
       "    .dataframe thead th {\n",
       "        text-align: right;\n",
       "    }\n",
       "</style>\n",
       "<table border=\"1\" class=\"dataframe\">\n",
       "  <thead>\n",
       "    <tr style=\"text-align: right;\">\n",
       "      <th></th>\n",
       "      <th>food item</th>\n",
       "      <th>weight_in_grams</th>\n",
       "      <th>saturated_fat</th>\n",
       "      <th>cholesterol</th>\n",
       "      <th>saturated_fat_per_gram</th>\n",
       "      <th>cholesterol_per_gram</th>\n",
       "    </tr>\n",
       "  </thead>\n",
       "  <tbody>\n",
       "    <tr>\n",
       "      <th>119</th>\n",
       "      <td>EGGS; RAW; YOLK               1 YOLK</td>\n",
       "      <td>17.0</td>\n",
       "      <td>1.6</td>\n",
       "      <td>213</td>\n",
       "      <td>0.094118</td>\n",
       "      <td>12.529412</td>\n",
       "    </tr>\n",
       "    <tr>\n",
       "      <th>58</th>\n",
       "      <td>CHICKEN LIVER; COOKED         1 LIVER</td>\n",
       "      <td>20.0</td>\n",
       "      <td>0.4</td>\n",
       "      <td>126</td>\n",
       "      <td>0.020000</td>\n",
       "      <td>6.300000</td>\n",
       "    </tr>\n",
       "    <tr>\n",
       "      <th>45</th>\n",
       "      <td>BEEF LIVER; FRIED             3 OZ</td>\n",
       "      <td>85.0</td>\n",
       "      <td>2.5</td>\n",
       "      <td>410</td>\n",
       "      <td>0.029412</td>\n",
       "      <td>4.823529</td>\n",
       "    </tr>\n",
       "    <tr>\n",
       "      <th>167</th>\n",
       "      <td>EGGS; COOKED; FRIED           1 EGG</td>\n",
       "      <td>46.0</td>\n",
       "      <td>1.9</td>\n",
       "      <td>211</td>\n",
       "      <td>0.041304</td>\n",
       "      <td>4.586957</td>\n",
       "    </tr>\n",
       "    <tr>\n",
       "      <th>186</th>\n",
       "      <td>EGGS; COOKED; HARD-COOKED     1 EGG</td>\n",
       "      <td>50.0</td>\n",
       "      <td>1.6</td>\n",
       "      <td>213</td>\n",
       "      <td>0.032000</td>\n",
       "      <td>4.260000</td>\n",
       "    </tr>\n",
       "  </tbody>\n",
       "</table>\n",
       "</div>"
      ],
      "text/plain": [
       "                                  food item  weight_in_grams  saturated_fat  \\\n",
       "119  EGGS; RAW; YOLK               1 YOLK               17.0            1.6   \n",
       "58   CHICKEN LIVER; COOKED         1 LIVER              20.0            0.4   \n",
       "45   BEEF LIVER; FRIED             3 OZ                 85.0            2.5   \n",
       "167  EGGS; COOKED; FRIED           1 EGG                46.0            1.9   \n",
       "186  EGGS; COOKED; HARD-COOKED     1 EGG                50.0            1.6   \n",
       "\n",
       "     cholesterol  saturated_fat_per_gram  cholesterol_per_gram  \n",
       "119          213                0.094118             12.529412  \n",
       "58           126                0.020000              6.300000  \n",
       "45           410                0.029412              4.823529  \n",
       "167          211                0.041304              4.586957  \n",
       "186          213                0.032000              4.260000  "
      ]
     },
     "execution_count": 18,
     "metadata": {},
     "output_type": "execute_result"
    }
   ],
   "source": [
    "df['cholesterol_per_gram'] = df['cholesterol']/df['weight_in_grams']\n",
    "df_sorted = df.sort_values(by=['cholesterol_per_gram'],ascending=False)\n",
    "df_sorted.head()"
   ]
  },
  {
   "cell_type": "markdown",
   "metadata": {},
   "source": [
    "<b>The food with the most cholesterol per gram is eggs. </b>"
   ]
  },
  {
   "cell_type": "markdown",
   "metadata": {},
   "source": [
    "<b> Question 24 - ch.3 </b>\n",
    "\n",
    "Standardize the field saturated_fat_per_gram. Produce a listing of all the food items\n",
    "that are outliers at the high end of the scale. How many food items are outliers at the low\n",
    "end of the scale?"
   ]
  },
  {
   "cell_type": "code",
   "execution_count": 30,
   "metadata": {},
   "outputs": [
    {
     "name": "stdout",
     "output_type": "stream",
     "text": [
      "                                  food item    sfpg_z\n",
      "210  CHOCOLATE; BITTER OT BAKING   1 OZ      4.240676\n",
      "448  COCONUT; RAW; SHREDDED        1 CUP     3.938687\n",
      "492  COCONUT; DRIED; SWEETND;SHREDD1 CUP     4.204266\n",
      "576  COCONUT; RAW; PIECE           1 PIECE   3.942889\n",
      "709  BUTTER; SALTED                1/2 CUP   7.082741\n",
      "710  BUTTER; UNSALTED              1/2 CUP   7.082741\n",
      "890  LARD                          1 CUP     5.371375\n",
      "898  FATS; COOKING/VEGETBL SHORTENG1 TBSP    3.278227\n",
      "899  LARD                          1 TBSP    5.373078\n",
      "907  FATS; COOKING/VEGETBL SHORTENG1 CUP     3.223726\n",
      "908  BUTTER; SALTED                1 TBSP    7.110475\n",
      "909  BUTTER; UNSALTED              1 TBSP    7.110475\n",
      "912  BUTTER; SALTED                1 PAT     7.002408\n",
      "913  BUTTER; UNSALTED              1 PAT     7.002408\n",
      "920  IMITATION CREAMERS; POWDERED  1 TSP     4.732985\n"
     ]
    }
   ],
   "source": [
    "from scipy import stats\n",
    "\n",
    "df['sfpg_z'] = stats.zscore(df['saturated_fat_per_gram'])\n",
    "#sanity check\n",
    "pos_outliers = df.query('sfpg_z > 3')\n",
    "neg_outliers = df.query('sfpg_z < -3')\n",
    "\n",
    "print(pos_outliers[['food item','sfpg_z']])"
   ]
  },
  {
   "cell_type": "code",
   "execution_count": 31,
   "metadata": {},
   "outputs": [
    {
     "name": "stdout",
     "output_type": "stream",
     "text": [
      "0\n"
     ]
    }
   ],
   "source": [
    "print(len(neg_outliers))"
   ]
  },
  {
   "cell_type": "markdown",
   "metadata": {},
   "source": [
    "there are no outliers left of the measure of central tendency."
   ]
  },
  {
   "cell_type": "markdown",
   "metadata": {},
   "source": [
    "<b>Question 25 - ch. 3</b>\n",
    "Standardize the field cholesterol_per_gram. Produce a listing of all the food items that\n",
    "are outliers at the high end of the scale."
   ]
  },
  {
   "cell_type": "code",
   "execution_count": 33,
   "metadata": {},
   "outputs": [
    {
     "name": "stdout",
     "output_type": "stream",
     "text": [
      "                                  food item      cpg_z\n",
      "45   BEEF LIVER; FRIED             3 OZ       6.765448\n",
      "58   CHICKEN LIVER; COOKED         1 LIVER    8.952391\n",
      "119  EGGS; RAW; YOLK               1 YOLK    18.179372\n",
      "167  EGGS; COOKED; FRIED           1 EGG      6.415037\n",
      "184  EGGS; RAW; WHOLE              1 EGG      5.930750\n",
      "185  EGGS; COOKED; POACHED         1 EGG      5.901127\n",
      "186  EGGS; COOKED; HARD-COOKED     1 EGG      5.930750\n",
      "189  EGGS; COOKED; SCRAMBLED/OMELET1 EGG      4.841464\n"
     ]
    }
   ],
   "source": [
    "df['cpg_z'] = stats.zscore(df['cholesterol_per_gram'])\n",
    "pos_outliers = df.query('cpg_z > 3')\n",
    "print(pos_outliers[['food item','cpg_z']])"
   ]
  }
 ],
 "metadata": {
  "kernelspec": {
   "display_name": "Python 3",
   "language": "python",
   "name": "python3"
  },
  "language_info": {
   "codemirror_mode": {
    "name": "ipython",
    "version": 3
   },
   "file_extension": ".py",
   "mimetype": "text/x-python",
   "name": "python",
   "nbconvert_exporter": "python",
   "pygments_lexer": "ipython3",
   "version": "3.8.5"
  }
 },
 "nbformat": 4,
 "nbformat_minor": 4
}
