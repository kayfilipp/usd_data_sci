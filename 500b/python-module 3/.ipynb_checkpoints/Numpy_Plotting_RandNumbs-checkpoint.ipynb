{
 "cells": [
  {
   "cell_type": "code",
   "execution_count": 2,
   "metadata": {},
   "outputs": [
    {
     "name": "stderr",
     "output_type": "stream",
     "text": [
      "Matplotlib is building the font cache; this may take a moment.\n"
     ]
    }
   ],
   "source": [
    "import numpy as np\n",
    "import matplotlib.pyplot as plt"
   ]
  },
  {
   "cell_type": "code",
   "execution_count": 7,
   "metadata": {},
   "outputs": [],
   "source": [
    "data = [\n",
    "    85,\n",
    "    62,\n",
    "    78,\n",
    "    64,\n",
    "    25,\n",
    "    12,\n",
    "    74,\n",
    "    96,\n",
    "    63,\n",
    "    45,\n",
    "    78,\n",
    "    20,\n",
    "    5,\n",
    "    30,\n",
    "    45,\n",
    "    78,\n",
    "    45,\n",
    "    96,\n",
    "    65,\n",
    "    45,\n",
    "    74,\n",
    "    12,\n",
    "    78,\n",
    "    23,\n",
    "    8\n",
    "]"
   ]
  },
  {
   "cell_type": "code",
   "execution_count": 13,
   "metadata": {},
   "outputs": [
    {
     "name": "stdout",
     "output_type": "stream",
     "text": [
      "Min: 5, Max: 96\n",
      "52.24 791.3824000000001 28.131519688776148\n"
     ]
    }
   ],
   "source": [
    "#yay, string concatenation with variables! \n",
    "max = np.max(data)\n",
    "min = np.min(data)\n",
    "mean= np.mean(data)\n",
    "var = np.var(data)\n",
    "std = np.std(data)\n",
    "\n",
    "print(\"Min: {0:d}, Max: {1:d}\".format(min,max))\n",
    "print(mean,var,std)"
   ]
  },
  {
   "cell_type": "code",
   "execution_count": 17,
   "metadata": {},
   "outputs": [
    {
     "data": {
      "text/plain": [
       "62.0"
      ]
     },
     "execution_count": 17,
     "metadata": {},
     "output_type": "execute_result"
    }
   ],
   "source": [
    "np.median(data)"
   ]
  },
  {
   "cell_type": "code",
   "execution_count": 21,
   "metadata": {},
   "outputs": [
    {
     "data": {
      "text/plain": [
       "<BarContainer object of 10 artists>"
      ]
     },
     "execution_count": 21,
     "metadata": {},
     "output_type": "execute_result"
    },
    {
     "data": {
      "image/png": "[encoded data removed]",
      "text/plain": [
       "<Figure size 432x288 with 1 Axes>"
      ]
     },
     "metadata": {
      "needs_background": "light"
     },
     "output_type": "display_data"
    }
   ],
   "source": [
    "#let's plot stuff!\n",
    "plt.figure()\n",
    "hist1,edges1=np.histogram(data)\n",
    "plt.bar(edges1[:-1],hist1,width=edges1[1:]-edges1[:-1])"
   ]
  },
  {
   "cell_type": "code",
   "execution_count": 28,
   "metadata": {
    "scrolled": true
   },
   "outputs": [
    {
     "data": {
      "image/png": "[encoded data removed]",
      "text/plain": [
       "<Figure size 432x288 with 1 Axes>"
      ]
     },
     "metadata": {
      "needs_background": "light"
     },
     "output_type": "display_data"
    }
   ],
   "source": [
    "#let's make a function to plot stuff\n",
    "def plotStuff(stuff):\n",
    "    plt.figure()\n",
    "    hist1,edges1=np.histogram(stuff)\n",
    "    plt.bar(edges1[:-1],hist1,width=edges1[1:]-edges1[:-1])\n",
    "\n",
    "#random dataset generation\n",
    "data2 = np.random.randn(1000) #generates n = 1000 pts\n",
    "plotStuff(data2)"
   ]
  },
  {
   "cell_type": "code",
   "execution_count": null,
   "metadata": {},
   "outputs": [],
   "source": []
  }
 ],
 "metadata": {
  "kernelspec": {
   "display_name": "Python 3",
   "language": "python",
   "name": "python3"
  },
  "language_info": {
   "codemirror_mode": {
    "name": "ipython",
    "version": 3
   },
   "file_extension": ".py",
   "mimetype": "text/x-python",
   "name": "python",
   "nbconvert_exporter": "python",
   "pygments_lexer": "ipython3",
   "version": "3.7.8"
  }
 },
 "nbformat": 4,
 "nbformat_minor": 4
}
