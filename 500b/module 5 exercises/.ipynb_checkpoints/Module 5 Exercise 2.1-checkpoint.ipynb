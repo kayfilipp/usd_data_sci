{
 "cells": [
  {
   "cell_type": "code",
   "execution_count": 1,
   "metadata": {},
   "outputs": [],
   "source": [
    "import pymysql.cursors as sql\n",
    "import pymysql\n",
    "import pandas as pd\n",
    "import matplotlib.pyplot as plt\n",
    "import numpy as np\n",
    "import statsmodels.api as sm"
   ]
  },
  {
   "cell_type": "code",
   "execution_count": 48,
   "metadata": {},
   "outputs": [],
   "source": [
    "# 2.1 Use Python to explore the relationship of different variables to models per gallon\n",
    "# (mpg). Find out which of the variables have high correlation with mpg. Report those\n",
    "# values. Build a regression model using one of those variables to predict mpg. Do the\n",
    "# same using two of those variables. Report your models along with the regression line\n",
    "# equations. (10 points)"
   ]
  },
  {
   "cell_type": "code",
   "execution_count": 2,
   "metadata": {},
   "outputs": [],
   "source": [
    "#connect to DB\n",
    "connection = pymysql.connect(\n",
    "    host='localhost', \n",
    "    user='root',\n",
    "    password='admin',\n",
    "    db='500b',\n",
    "    charset='utf8mb4',\n",
    "    cursorclass=sql.DictCursor)\n",
    "\n",
    "#Create a function to simplify the query process.\n",
    "\n",
    "try:\n",
    "    with connection.cursor() as cursor:\n",
    "        query = \"SELECT * FROM mpg\"\n",
    "        cursor.execute(query)\n",
    "        df = pd.DataFrame(cursor.fetchall())\n",
    "finally:\n",
    "    connection.close()"
   ]
  },
  {
   "cell_type": "code",
   "execution_count": 3,
   "metadata": {},
   "outputs": [
    {
     "data": {
      "text/plain": [
       "mpg             1.000000\n",
       "cylinders      -0.776796\n",
       "displacement   -0.804304\n",
       "horsepower     -0.777683\n",
       "weight         -0.831535\n",
       "model year      0.582750\n",
       "origin          0.563667\n",
       "Name: mpg, dtype: float64"
      ]
     },
     "execution_count": 3,
     "metadata": {},
     "output_type": "execute_result"
    }
   ],
   "source": [
    "#conclusion: displacement and weight seem to have the strongest association with mpg \n",
    "(df.corr()[\"mpg\"])"
   ]
  },
  {
   "cell_type": "code",
   "execution_count": 4,
   "metadata": {},
   "outputs": [
    {
     "name": "stdout",
     "output_type": "stream",
     "text": [
      "                            OLS Regression Results                            \n",
      "==============================================================================\n",
      "Dep. Variable:                    mpg   R-squared:                       0.691\n",
      "Model:                            OLS   Adj. R-squared:                  0.691\n",
      "Method:                 Least Squares   F-statistic:                     874.0\n",
      "Date:                Sat, 28 Nov 2020   Prob (F-statistic):          1.27e-101\n",
      "Time:                        14:16:40   Log-Likelihood:                -1130.5\n",
      "No. Observations:                 392   AIC:                             2265.\n",
      "Df Residuals:                     390   BIC:                             2273.\n",
      "Df Model:                           1                                         \n",
      "Covariance Type:            nonrobust                                         \n",
      "==============================================================================\n",
      "                 coef    std err          t      P>|t|      [0.025      0.975]\n",
      "------------------------------------------------------------------------------\n",
      "const         46.2287      0.800     57.809      0.000      44.657      47.801\n",
      "weight        -0.0076      0.000    -29.563      0.000      -0.008      -0.007\n",
      "==============================================================================\n",
      "Omnibus:                       40.521   Durbin-Watson:                   0.821\n",
      "Prob(Omnibus):                  0.000   Jarque-Bera (JB):               58.131\n",
      "Skew:                           0.712   Prob(JB):                     2.38e-13\n",
      "Kurtosis:                       4.239   Cond. No.                     1.13e+04\n",
      "==============================================================================\n",
      "\n",
      "Notes:\n",
      "[1] Standard Errors assume that the covariance matrix of the errors is correctly specified.\n",
      "[2] The condition number is large, 1.13e+04. This might indicate that there are\n",
      "strong multicollinearity or other numerical problems.\n"
     ]
    },
    {
     "data": {
      "text/plain": [
       "[<matplotlib.lines.Line2D at 0x9e27c70>]"
      ]
     },
     "execution_count": 4,
     "metadata": {},
     "output_type": "execute_result"
    },
    {
     "data": {
      "image/png": "[encoded data removed]",
      "text/plain": [
       "<Figure size 432x288 with 1 Axes>"
      ]
     },
     "metadata": {
      "needs_background": "light"
     },
     "output_type": "display_data"
    }
   ],
   "source": [
    "#model 1: we regress mpg against weight.\n",
    "Y = df[\"mpg\"]\n",
    "X = df[\"weight\"]\n",
    "X = sm.add_constant(X)\n",
    "\n",
    "lr_model_1 = sm.OLS(Y,X).fit()\n",
    "print(lr_model_1.summary())\n",
    "\n",
    "plt.scatter(df[\"weight\"],Y,color='black')\n",
    "plt.title(\"MPG vs Weight\")\n",
    "plt.xlabel(\"Weight\")\n",
    "plt.ylabel(\"Mpg\")\n",
    "m, b = np. polyfit(df[\"weight\"], Y, 1) \n",
    "plt. plot(df[\"weight\"], m*df[\"weight\"] + b) "
   ]
  },
  {
   "cell_type": "code",
   "execution_count": 82,
   "metadata": {},
   "outputs": [
    {
     "name": "stdout",
     "output_type": "stream",
     "text": [
      "                            OLS Regression Results                            \n",
      "==============================================================================\n",
      "Dep. Variable:                    mpg   R-squared:                       0.698\n",
      "Model:                            OLS   Adj. R-squared:                  0.696\n",
      "Method:                 Least Squares   F-statistic:                     448.9\n",
      "Date:                Sat, 28 Nov 2020   Prob (F-statistic):          8.72e-102\n",
      "Time:                        12:54:27   Log-Likelihood:                -1126.4\n",
      "No. Observations:                 392   AIC:                             2259.\n",
      "Df Residuals:                     389   BIC:                             2271.\n",
      "Df Model:                           2                                         \n",
      "Covariance Type:            nonrobust                                         \n",
      "================================================================================\n",
      "                   coef    std err          t      P>|t|      [0.025      0.975]\n",
      "--------------------------------------------------------------------------------\n",
      "const           43.8052      1.165     37.610      0.000      41.515      46.095\n",
      "weight          -0.0058      0.001     -8.086      0.000      -0.007      -0.004\n",
      "displacement    -0.0164      0.006     -2.840      0.005      -0.028      -0.005\n",
      "==============================================================================\n",
      "Omnibus:                       44.856   Durbin-Watson:                   0.845\n",
      "Prob(Omnibus):                  0.000   Jarque-Bera (JB):               67.316\n",
      "Skew:                           0.753   Prob(JB):                     2.41e-15\n",
      "Kurtosis:                       4.362   Cond. No.                     1.66e+04\n",
      "==============================================================================\n",
      "\n",
      "Notes:\n",
      "[1] Standard Errors assume that the covariance matrix of the errors is correctly specified.\n",
      "[2] The condition number is large, 1.66e+04. This might indicate that there are\n",
      "strong multicollinearity or other numerical problems.\n"
     ]
    }
   ],
   "source": [
    "#model 2: we regress mpg against weight and displacement.\n",
    "Y = df[\"mpg\"]\n",
    "X = df[[\"weight\",\"displacement\"]]\n",
    "X = sm.add_constant(X)\n",
    "\n",
    "lr_model_2 = sm.OLS(Y,X).fit()\n",
    "print(lr_model_2.summary())"
   ]
  },
  {
   "cell_type": "markdown",
   "metadata": {},
   "source": [
    "The equation for the two lines are as follows:\n",
    "\n",
    "model 1: mpg = 46.2287 - 0.0076 * weight    \n",
    "model 2: mpg = 43.8052 - 0.0058 * weight - 0.0164 * displacement"
   ]
  }
 ],
 "metadata": {
  "kernelspec": {
   "display_name": "Python 3",
   "language": "python",
   "name": "python3"
  },
  "language_info": {
   "codemirror_mode": {
    "name": "ipython",
    "version": 3
   },
   "file_extension": ".py",
   "mimetype": "text/x-python",
   "name": "python",
   "nbconvert_exporter": "python",
   "pygments_lexer": "ipython3",
   "version": "3.8.5"
  }
 },
 "nbformat": 4,
 "nbformat_minor": 4
}
