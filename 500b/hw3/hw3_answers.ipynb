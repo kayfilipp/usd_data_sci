{
 "cells": [
  {
   "cell_type": "code",
   "execution_count": 1,
   "metadata": {},
   "outputs": [],
   "source": [
    "import numpy as np\n",
    "import pandas as pd\n",
    "import matplotlib as mpl\n",
    "import matplotlib.pyplot as plt\n",
    "import seaborn as sns"
   ]
  },
  {
   "cell_type": "code",
   "execution_count": 2,
   "metadata": {},
   "outputs": [
    {
     "name": "stdout",
     "output_type": "stream",
     "text": [
      "      0\n",
      "0   164\n",
      "1   158\n",
      "2   172\n",
      "3   153\n",
      "4   144\n",
      "5   156\n",
      "6   189\n",
      "7   163\n",
      "8   134\n",
      "9   159\n",
      "10  143\n",
      "11  176\n",
      "12  177\n",
      "13  162\n",
      "14  141\n",
      "15  151\n",
      "16  182\n",
      "17  185\n",
      "18  171\n",
      "19  152\n"
     ]
    }
   ],
   "source": [
    "#1.1. Import the data from the file weights.tsv into a Pandas Series object in Python.\n",
    "weights = pd.read_csv('weights.tsv',delimiter='\\t',header=None)\n",
    "print(weights)"
   ]
  },
  {
   "cell_type": "code",
   "execution_count": 3,
   "metadata": {},
   "outputs": [
    {
     "name": "stdout",
     "output_type": "stream",
     "text": [
      "0     74.389088\n",
      "1     71.667536\n",
      "2     78.017824\n",
      "3     69.399576\n",
      "4     65.317248\n",
      "5     70.760352\n",
      "6     85.728888\n",
      "7     73.935496\n",
      "8     60.781328\n",
      "9     72.121128\n",
      "10    64.863656\n",
      "11    79.832192\n",
      "12    80.285784\n",
      "13    73.481904\n",
      "14    63.956472\n",
      "15    68.492392\n",
      "16    82.553744\n",
      "17    83.914520\n",
      "18    77.564232\n",
      "19    68.945984\n",
      "Name: 0, dtype: float64\n"
     ]
    }
   ],
   "source": [
    "#1.2 Create a new series object with weights converted to kilograms from pounds \n",
    "#(1 pound = 0.453592 kilograms). Round the results to two decimal places.\n",
    "weights_kg = weights[0] * 0.453592\n",
    "print(weights_kg)"
   ]
  },
  {
   "cell_type": "code",
   "execution_count": 4,
   "metadata": {},
   "outputs": [
    {
     "name": "stdout",
     "output_type": "stream",
     "text": [
      "   Unit        Mean      Median    Std.Dev\n",
      "0  Lbs.  161.600000  160.500000  15.449067\n",
      "1   Kg.   73.300467   72.801516   7.007573\n"
     ]
    }
   ],
   "source": [
    "#1.3 Find the mean, median, and standard deviation of both series objects using\n",
    "# Pandas functions.\n",
    "\n",
    "weights_desc    = [\"Lbs.\",weights.mean()[0], weights.median()[0], weights.std()[0]]\n",
    "weights_kg_desc = [\"Kg.\",weights_kg.mean(),weights_kg.median(), weights_kg.std()]\n",
    "descs = pd.DataFrame([weights_desc,weights_kg_desc],columns=[\"Unit\",\"Mean\",\"Median\",\"Std.Dev\"])\n",
    "print(descs)"
   ]
  },
  {
   "cell_type": "code",
   "execution_count": 5,
   "metadata": {},
   "outputs": [
    {
     "name": "stdout",
     "output_type": "stream",
     "text": [
      "(array([1., 3., 0., 3., 3., 3., 2., 2., 1., 2.]), array([60.781328, 63.276084, 65.77084 , 68.265596, 70.760352, 73.255108,\n",
      "       75.749864, 78.24462 , 80.739376, 83.234132, 85.728888]), <BarContainer object of 10 artists>)\n"
     ]
    },
    {
     "data": {
      "image/png": "[encoded data removed]",
      "text/plain": [
       "<Figure size 432x288 with 1 Axes>"
      ]
     },
     "metadata": {
      "needs_background": "light"
     },
     "output_type": "display_data"
    }
   ],
   "source": [
    "#1.4. Plot a histogram of weight (in kilograms) using matplotlib library with 10 bins.\n",
    "print(plt.hist(weights_kg,bins=10))"
   ]
  },
  {
   "cell_type": "code",
   "execution_count": 6,
   "metadata": {},
   "outputs": [],
   "source": [
    "#2.1. Import the dataset “boston.csv” into a Pandas dataframe and obtain the number\n",
    "#of rows and columns for the dataframe.\n",
    "boston = pd.read_csv('boston.csv')"
   ]
  },
  {
   "cell_type": "code",
   "execution_count": 7,
   "metadata": {},
   "outputs": [
    {
     "name": "stdout",
     "output_type": "stream",
     "text": [
      "Number of columns:13\n",
      "number of rows:506\n"
     ]
    }
   ],
   "source": [
    "print(\"Number of columns:\" + str(len(boston.columns)))\n",
    "print(\"number of rows:\" + str(len(boston)))"
   ]
  },
  {
   "cell_type": "code",
   "execution_count": 8,
   "metadata": {},
   "outputs": [
    {
     "data": {
      "text/plain": [
       "20.1"
      ]
     },
     "execution_count": 8,
     "metadata": {},
     "output_type": "execute_result"
    }
   ],
   "source": [
    "#2.2 What is the owner-occupied home value (MEDV) for the lowest nitric oxide\n",
    "#concentration (NOX) from the dataframe?\n",
    "i = boston.idxmin(axis=0)['NOX']\n",
    "boston.iloc[i]['MEDV']"
   ]
  },
  {
   "cell_type": "code",
   "execution_count": 143,
   "metadata": {},
   "outputs": [
    {
     "name": "stderr",
     "output_type": "stream",
     "text": [
      "C:\\Users\\filipp\\miniconda3\\envs\\ADS500B\\lib\\site-packages\\seaborn\\_decorators.py:43: FutureWarning: Pass the following variable as a keyword arg: x. From version 0.12, the only valid positional argument will be `data`, and passing other arguments without an explicit keyword will result in an error or misinterpretation.\n",
      "  FutureWarning\n"
     ]
    },
    {
     "name": "stdout",
     "output_type": "stream",
     "text": [
      "IQR: 3.5950374999999997\n"
     ]
    },
    {
     "data": {
      "image/png": "[encoded data removed]",
      "text/plain": [
       "<Figure size 432x288 with 1 Axes>"
      ]
     },
     "metadata": {
      "needs_background": "light"
     },
     "output_type": "display_data"
    }
   ],
   "source": [
    "#2.3 Create a boxplot of per capita crime rate (CRIM) using Matplotlib. Obtain the\n",
    "#interquartile range for crime rate (CRIM) using Pandas functions.\n",
    "\n",
    "#plt.boxplot(boston['CRIM'])\n",
    "q1 = boston['CRIM'].quantile(0.25)\n",
    "q3 = boston['CRIM'].quantile(0.75)\n",
    "IQR = q3 - q1\n",
    "sns.boxplot(boston['CRIM'])\n",
    "print(\"IQR: \"+ str(IQR))"
   ]
  },
  {
   "cell_type": "code",
   "execution_count": 10,
   "metadata": {},
   "outputs": [
    {
     "name": "stdout",
     "output_type": "stream",
     "text": [
      "Avg. Age Avg. Crime Rate\n",
      "63.78489208633093 5.64144226618705\n",
      "74.41535087719299 1.1408858333333334\n"
     ]
    }
   ],
   "source": [
    "# 2.4 Subset all columns of the dataframe for rows with outliers of crime rate into a new\n",
    "# dataframe. Compare the averages of AGE between the two dataframes with\n",
    "# respect to crime rate, what do you interpret?\n",
    "\n",
    "thresh = 1.5 * IQR\n",
    "boston_outliers = boston[(boston['CRIM'] < q1*1.5) | (boston['CRIM']>q3*1.5)]\n",
    "boston_non_outliers = boston[(boston['CRIM'] >= q1*1.5) & (boston['CRIM'] <= q3*1.5)]\n",
    "\n",
    "print(\"Avg. Age\",\"Avg. Crime Rate\")\n",
    "print(boston_outliers['AGE'].mean(),boston_outliers['CRIM'].mean(),)\n",
    "print(boston_non_outliers['AGE'].mean(),boston_non_outliers['CRIM'].mean())\n",
    "\n",
    "#analysis: \n",
    "#the data frame containing outliers has a lower age but a higher average crime rate, which means that \n",
    "#younger neighborhoods tend to experience more crime than neighborhoods whose housing units are,\n",
    "#on net, older."
   ]
  },
  {
   "cell_type": "code",
   "execution_count": 11,
   "metadata": {},
   "outputs": [
    {
     "data": {
      "image/png": "[encoded data removed]",
      "text/plain": [
       "<Figure size 432x288 with 1 Axes>"
      ]
     },
     "metadata": {
      "needs_background": "light"
     },
     "output_type": "display_data"
    }
   ],
   "source": [
    "#2.5. Create scatterplot between distances to employment centers (DIS) and nitric\n",
    "# oxide levels (NOX). Obtain correlation index between the two columns and\n",
    "# interpret their relation.\n",
    "\n",
    "plt.scatter(boston['DIS'],boston['NOX'])\n",
    "plt.title(\"Distance to Employment Centers(DIS) vs. Nitric Oxide levels (NOX)\")\n",
    "plt.ylabel(\"NOX\")\n",
    "plt.xlabel(\"DIS\")\n",
    "plt.show()"
   ]
  },
  {
   "cell_type": "code",
   "execution_count": 18,
   "metadata": {},
   "outputs": [
    {
     "data": {
      "text/plain": [
       "-0.7692301132258279"
      ]
     },
     "execution_count": 18,
     "metadata": {},
     "output_type": "execute_result"
    }
   ],
   "source": [
    "#the distance to an employment center exhibits a strong negative correlation with the level\n",
    "#of nitric oxide levels in a given area. That is, an increase of the distance to an employment \n",
    "#center by 1% is associated with a 0.769% decrease in NOX levels.\n",
    "np.corrcoef(boston['DIS'],boston['NOX'])[0][1]"
   ]
  },
  {
   "cell_type": "code",
   "execution_count": 24,
   "metadata": {},
   "outputs": [
    {
     "data": {
      "image/png": "[encoded data removed]",
      "text/plain": [
       "<Figure size 432x288 with 1 Axes>"
      ]
     },
     "metadata": {
      "needs_background": "light"
     },
     "output_type": "display_data"
    },
    {
     "name": "stdout",
     "output_type": "stream",
     "text": [
      "0.9102281885331874\n"
     ]
    }
   ],
   "source": [
    "#2.6. Similarly, create a scatterplot between highway accessibility index (RAD) and\n",
    "# property tax rate (TAX). Obtain correlation index, compare it to the scatter-plot\n",
    "# and interpret the relation between RAD and TAX. Take appropriate action on the\n",
    "# data based on your observation. \n",
    "plt.scatter(boston['RAD'],boston['TAX'])\n",
    "plt.title(\"Accesibility to Radial Highways (RAD) vs. Property Tax Rate(TAX)\")\n",
    "plt.ylabel(\"TAX\")\n",
    "plt.xlabel(\"RAD\")\n",
    "plt.show()\n",
    "\n",
    "#interpretation: the dataset exhibits a very strong positive correlation coefficient of around 0.90, \n",
    "#which is notably stronger than that of the previous dataset. On face value, the scatter\n",
    "#plot suggests a much weaker correlation. This can be interpeted to mean that a one percent increase \n",
    "#in access to radial highways is associated with a 0.91% increase in the property tax per $10,000.\n",
    "\n",
    "#action: because the relationship goes both ways, we can also interpret this dataset as \n",
    "#providing evidence that property tax rates move similarly to access to radial highways.\n",
    "#as a result, we may have some evidence to assert that lower-taxed neighborhoods have less\n",
    "#access to highways. Further analysis would be required to confirm that there is a relationship\n",
    "#between the property tax rate and the expected income of an area; if this is the case, we can\n",
    "#start taking broad steps towards addressing a lack of accessibility for lower-income neighborhoods.\n",
    "\n",
    "print(np.corrcoef(boston['RAD'],boston['TAX'])[0][1])"
   ]
  },
  {
   "cell_type": "code",
   "execution_count": 26,
   "metadata": {},
   "outputs": [
    {
     "data": {
      "text/html": [
       "<div>\n",
       "<style scoped>\n",
       "    .dataframe tbody tr th:only-of-type {\n",
       "        vertical-align: middle;\n",
       "    }\n",
       "\n",
       "    .dataframe tbody tr th {\n",
       "        vertical-align: top;\n",
       "    }\n",
       "\n",
       "    .dataframe thead th {\n",
       "        text-align: right;\n",
       "    }\n",
       "</style>\n",
       "<table border=\"1\" class=\"dataframe\">\n",
       "  <thead>\n",
       "    <tr style=\"text-align: right;\">\n",
       "      <th></th>\n",
       "      <th>total_bill</th>\n",
       "      <th>tip</th>\n",
       "      <th>sex</th>\n",
       "      <th>smoker</th>\n",
       "      <th>day</th>\n",
       "      <th>time</th>\n",
       "      <th>size</th>\n",
       "    </tr>\n",
       "  </thead>\n",
       "  <tbody>\n",
       "    <tr>\n",
       "      <th>0</th>\n",
       "      <td>16.99</td>\n",
       "      <td>1.01</td>\n",
       "      <td>Female</td>\n",
       "      <td>No</td>\n",
       "      <td>Sun</td>\n",
       "      <td>Dinner</td>\n",
       "      <td>2</td>\n",
       "    </tr>\n",
       "    <tr>\n",
       "      <th>1</th>\n",
       "      <td>10.34</td>\n",
       "      <td>1.66</td>\n",
       "      <td>Male</td>\n",
       "      <td>No</td>\n",
       "      <td>Sun</td>\n",
       "      <td>Dinner</td>\n",
       "      <td>3</td>\n",
       "    </tr>\n",
       "    <tr>\n",
       "      <th>2</th>\n",
       "      <td>21.01</td>\n",
       "      <td>3.50</td>\n",
       "      <td>Male</td>\n",
       "      <td>No</td>\n",
       "      <td>Sun</td>\n",
       "      <td>Dinner</td>\n",
       "      <td>3</td>\n",
       "    </tr>\n",
       "    <tr>\n",
       "      <th>3</th>\n",
       "      <td>23.68</td>\n",
       "      <td>3.31</td>\n",
       "      <td>Male</td>\n",
       "      <td>No</td>\n",
       "      <td>Sun</td>\n",
       "      <td>Dinner</td>\n",
       "      <td>2</td>\n",
       "    </tr>\n",
       "    <tr>\n",
       "      <th>4</th>\n",
       "      <td>24.59</td>\n",
       "      <td>3.61</td>\n",
       "      <td>Female</td>\n",
       "      <td>No</td>\n",
       "      <td>Sun</td>\n",
       "      <td>Dinner</td>\n",
       "      <td>4</td>\n",
       "    </tr>\n",
       "  </tbody>\n",
       "</table>\n",
       "</div>"
      ],
      "text/plain": [
       "   total_bill   tip     sex smoker  day    time  size\n",
       "0       16.99  1.01  Female     No  Sun  Dinner     2\n",
       "1       10.34  1.66    Male     No  Sun  Dinner     3\n",
       "2       21.01  3.50    Male     No  Sun  Dinner     3\n",
       "3       23.68  3.31    Male     No  Sun  Dinner     2\n",
       "4       24.59  3.61  Female     No  Sun  Dinner     4"
      ]
     },
     "execution_count": 26,
     "metadata": {},
     "output_type": "execute_result"
    }
   ],
   "source": [
    "tips_df = sns.load_dataset('tips')\n",
    "tips_df.head()"
   ]
  },
  {
   "cell_type": "code",
   "execution_count": 30,
   "metadata": {},
   "outputs": [
    {
     "data": {
      "text/html": [
       "<div>\n",
       "<style scoped>\n",
       "    .dataframe tbody tr th:only-of-type {\n",
       "        vertical-align: middle;\n",
       "    }\n",
       "\n",
       "    .dataframe tbody tr th {\n",
       "        vertical-align: top;\n",
       "    }\n",
       "\n",
       "    .dataframe thead th {\n",
       "        text-align: right;\n",
       "    }\n",
       "</style>\n",
       "<table border=\"1\" class=\"dataframe\">\n",
       "  <thead>\n",
       "    <tr style=\"text-align: right;\">\n",
       "      <th></th>\n",
       "      <th>total_bill</th>\n",
       "      <th>tip</th>\n",
       "      <th>sex</th>\n",
       "      <th>smoker</th>\n",
       "      <th>day</th>\n",
       "      <th>time</th>\n",
       "      <th>size</th>\n",
       "      <th>tip_percent</th>\n",
       "    </tr>\n",
       "  </thead>\n",
       "  <tbody>\n",
       "    <tr>\n",
       "      <th>0</th>\n",
       "      <td>16.99</td>\n",
       "      <td>1.01</td>\n",
       "      <td>Female</td>\n",
       "      <td>No</td>\n",
       "      <td>Sun</td>\n",
       "      <td>Dinner</td>\n",
       "      <td>2</td>\n",
       "      <td>0.06</td>\n",
       "    </tr>\n",
       "    <tr>\n",
       "      <th>1</th>\n",
       "      <td>10.34</td>\n",
       "      <td>1.66</td>\n",
       "      <td>Male</td>\n",
       "      <td>No</td>\n",
       "      <td>Sun</td>\n",
       "      <td>Dinner</td>\n",
       "      <td>3</td>\n",
       "      <td>0.16</td>\n",
       "    </tr>\n",
       "    <tr>\n",
       "      <th>2</th>\n",
       "      <td>21.01</td>\n",
       "      <td>3.50</td>\n",
       "      <td>Male</td>\n",
       "      <td>No</td>\n",
       "      <td>Sun</td>\n",
       "      <td>Dinner</td>\n",
       "      <td>3</td>\n",
       "      <td>0.17</td>\n",
       "    </tr>\n",
       "    <tr>\n",
       "      <th>3</th>\n",
       "      <td>23.68</td>\n",
       "      <td>3.31</td>\n",
       "      <td>Male</td>\n",
       "      <td>No</td>\n",
       "      <td>Sun</td>\n",
       "      <td>Dinner</td>\n",
       "      <td>2</td>\n",
       "      <td>0.14</td>\n",
       "    </tr>\n",
       "    <tr>\n",
       "      <th>4</th>\n",
       "      <td>24.59</td>\n",
       "      <td>3.61</td>\n",
       "      <td>Female</td>\n",
       "      <td>No</td>\n",
       "      <td>Sun</td>\n",
       "      <td>Dinner</td>\n",
       "      <td>4</td>\n",
       "      <td>0.15</td>\n",
       "    </tr>\n",
       "  </tbody>\n",
       "</table>\n",
       "</div>"
      ],
      "text/plain": [
       "   total_bill   tip     sex smoker  day    time  size  tip_percent\n",
       "0       16.99  1.01  Female     No  Sun  Dinner     2         0.06\n",
       "1       10.34  1.66    Male     No  Sun  Dinner     3         0.16\n",
       "2       21.01  3.50    Male     No  Sun  Dinner     3         0.17\n",
       "3       23.68  3.31    Male     No  Sun  Dinner     2         0.14\n",
       "4       24.59  3.61  Female     No  Sun  Dinner     4         0.15"
      ]
     },
     "execution_count": 30,
     "metadata": {},
     "output_type": "execute_result"
    }
   ],
   "source": [
    "#3.1. Calculate percentage of tip amounts for bill totals, rounded to two decimal places\n",
    "# and create a new column “tip_percent” in the same dataframe.\n",
    "\n",
    "tips_df['tip_percent'] = round(tips_df['tip']/tips_df['total_bill'],2)\n",
    "tips_df.head()"
   ]
  },
  {
   "cell_type": "code",
   "execution_count": 43,
   "metadata": {},
   "outputs": [
    {
     "name": "stdout",
     "output_type": "stream",
     "text": [
      "['Sun', 'Sat', 'Thur', 'Fri']\n",
      "Categories (4, object): ['Sun', 'Sat', 'Thur', 'Fri']\n"
     ]
    }
   ],
   "source": [
    "#3.2 For what days in the week do we have the data, and which day on average has\n",
    "#the highest bill? (Hint: lookup for “groupby” in pandas documentation)\n",
    "unique_days = (tips_df['day'].unique())\n",
    "print(unique_days)"
   ]
  },
  {
   "cell_type": "code",
   "execution_count": 71,
   "metadata": {},
   "outputs": [],
   "source": [
    "grouped = tips_df.groupby(['day'])['total_bill'].mean()"
   ]
  },
  {
   "cell_type": "code",
   "execution_count": 74,
   "metadata": {},
   "outputs": [
    {
     "data": {
      "text/plain": [
       "'Sun'"
      ]
     },
     "execution_count": 74,
     "metadata": {},
     "output_type": "execute_result"
    }
   ],
   "source": [
    "#day on average with highest bill\n",
    "grouped.idxmax()"
   ]
  },
  {
   "cell_type": "code",
   "execution_count": 140,
   "metadata": {},
   "outputs": [
    {
     "name": "stdout",
     "output_type": "stream",
     "text": [
      "customers    most dining times: Dinner\n",
      "dtype: object\n"
     ]
    }
   ],
   "source": [
    "# 3.3 Are there more dinners or lunches? Create a dataframe with this data. Are there\n",
    "# more smokers during lunches or dinners? Create another dataframe with this\n",
    "# data. Join the two dataframes by time of day and calculate the percent of\n",
    "# smokers at lunch and dinner. Compare the results.\n",
    "\n",
    "#are there more dinners or lunches?\n",
    "time_grp = pd.DataFrame(tips_df.groupby(['time'])['total_bill'].count())\n",
    "time_grp.columns = ['customers']\n",
    "\n",
    "print(\"most dining times: \" + time_grp.idxmax())"
   ]
  },
  {
   "cell_type": "code",
   "execution_count": 138,
   "metadata": {},
   "outputs": [
    {
     "name": "stdout",
     "output_type": "stream",
     "text": [
      "smokers    most smokers: Dinner\n",
      "dtype: object\n"
     ]
    }
   ],
   "source": [
    "#more smokers during lunches or dinners? \n",
    "tips_df_smokers = tips_df[tips_df['smoker']=='Yes']\n",
    "smokers_grp = pd.DataFrame(tips_df_smokers.groupby(['time'])['total_bill'].count())\n",
    "smokers_grp.columns = ['smokers']\n",
    "\n",
    "print('most smokers: ' + smokers_grp.idxmax())"
   ]
  },
  {
   "cell_type": "code",
   "execution_count": 142,
   "metadata": {},
   "outputs": [
    {
     "data": {
      "text/html": [
       "<div>\n",
       "<style scoped>\n",
       "    .dataframe tbody tr th:only-of-type {\n",
       "        vertical-align: middle;\n",
       "    }\n",
       "\n",
       "    .dataframe tbody tr th {\n",
       "        vertical-align: top;\n",
       "    }\n",
       "\n",
       "    .dataframe thead th {\n",
       "        text-align: right;\n",
       "    }\n",
       "</style>\n",
       "<table border=\"1\" class=\"dataframe\">\n",
       "  <thead>\n",
       "    <tr style=\"text-align: right;\">\n",
       "      <th></th>\n",
       "      <th>customers</th>\n",
       "      <th>smokers</th>\n",
       "      <th>percent_smokers</th>\n",
       "    </tr>\n",
       "    <tr>\n",
       "      <th>time</th>\n",
       "      <th></th>\n",
       "      <th></th>\n",
       "      <th></th>\n",
       "    </tr>\n",
       "  </thead>\n",
       "  <tbody>\n",
       "    <tr>\n",
       "      <th>Lunch</th>\n",
       "      <td>68</td>\n",
       "      <td>23</td>\n",
       "      <td>0.338235</td>\n",
       "    </tr>\n",
       "    <tr>\n",
       "      <th>Dinner</th>\n",
       "      <td>176</td>\n",
       "      <td>70</td>\n",
       "      <td>0.397727</td>\n",
       "    </tr>\n",
       "  </tbody>\n",
       "</table>\n",
       "</div>"
      ],
      "text/plain": [
       "        customers  smokers  percent_smokers\n",
       "time                                       \n",
       "Lunch          68       23         0.338235\n",
       "Dinner        176       70         0.397727"
      ]
     },
     "execution_count": 142,
     "metadata": {},
     "output_type": "execute_result"
    }
   ],
   "source": [
    "#merge the two data frames together and calculate the perccentage of smokers for each time.\n",
    "smokers_by_time = pd.merge(time_grp,smokers_grp,on='time')\n",
    "smokers_by_time['percent_smokers'] = smokers_by_time['smokers']/smokers_by_time['customers']\n",
    "smokers_by_time\n",
    "\n",
    "#conclusion: there is a significantly large percentage of smokers during dinnertime."
   ]
  },
  {
   "cell_type": "code",
   "execution_count": 153,
   "metadata": {},
   "outputs": [
    {
     "data": {
      "text/plain": [
       "<AxesSubplot:xlabel='tip', ylabel='sex'>"
      ]
     },
     "execution_count": 153,
     "metadata": {},
     "output_type": "execute_result"
    },
    {
     "data": {
      "image/png": "[encoded data removed]",
      "text/plain": [
       "<Figure size 432x288 with 1 Axes>"
      ]
     },
     "metadata": {
      "needs_background": "light"
     },
     "output_type": "display_data"
    }
   ],
   "source": [
    "# 3.4 Using the boxplot function from seaborn package, create plots on “tip” column for\n",
    "# Male and Female from “sex” column. Compare the boxplots and provide your\n",
    "# interpretation on outliers between males and females. \n",
    "\n",
    "#interpretation: female tipping patterns exhibit a smaller spread and interquartile range\n",
    "#as well as fewer outliers. Male tipping data shows a slight negative skew.\n",
    "#we can interpret the difference between outliers to be that males in this dataset have\n",
    "#a propensity to tip larger amounts. However, this analysis might be moot if those tips\n",
    "#were for meals with a higher ticket amount.\n",
    "\n",
    "sns.boxplot(y=tips_df['sex'],x=tips_df['tip'])"
   ]
  },
  {
   "cell_type": "code",
   "execution_count": 157,
   "metadata": {},
   "outputs": [
    {
     "data": {
      "text/plain": [
       "<AxesSubplot:xlabel='tip_percent', ylabel='sex'>"
      ]
     },
     "execution_count": 157,
     "metadata": {},
     "output_type": "execute_result"
    },
    {
     "data": {
      "image/png": "[encoded data removed]",
      "text/plain": [
       "<Figure size 432x288 with 1 Axes>"
      ]
     },
     "metadata": {
      "needs_background": "light"
     },
     "output_type": "display_data"
    }
   ],
   "source": [
    "# 3.5 Create the same boxplots as above for “tip_percent” and “sex”, for tip percent\n",
    "# below 70. Now compare the boxplots between male and female, which boxplot\n",
    "# has more outliers and which one is more symmetric?\n",
    "\n",
    "tips_df_below_70 = tips_df[tips_df['tip_percent']< 0.7]\n",
    "sns.boxplot(y=tips_df_below_70['sex'],x=tips_df_below_70['tip_percent'])\n",
    "#analysis: female median tipping percent is higher than male tipping percent with a smaller inter\n",
    "#quartile range, but more outliers. both datasets exhibit positive skew.\n",
    "#on face value, the female distribution seems to be more symmetric."
   ]
  },
  {
   "cell_type": "code",
   "execution_count": 158,
   "metadata": {},
   "outputs": [],
   "source": [
    "# 4. For this last problem statement, you will work on the “avocado.csv” dataset which\n",
    "# contains information related to avocado sales across multiple regions/cities over the\n",
    "# years 2015 to 2018 organised by date. The data contains 10 columns which are self\n",
    "# explanatory."
   ]
  },
  {
   "cell_type": "code",
   "execution_count": 418,
   "metadata": {},
   "outputs": [
    {
     "data": {
      "text/plain": [
       "Date            176\n",
       "AveragePrice    184\n",
       "TotalVolume     192\n",
       "Small           194\n",
       "Large           178\n",
       "AllSizes        184\n",
       "TotalBags       184\n",
       "Type            204\n",
       "Year            196\n",
       "Region          169\n",
       "dtype: int64"
      ]
     },
     "execution_count": 418,
     "metadata": {},
     "output_type": "execute_result"
    }
   ],
   "source": [
    "# 4.1. Import the dataset file into a Pandas dataframe and identify the count of missing\n",
    "# values per column. Handle missing values based on column type and explain\n",
    "# your reasons behind selecting appropriate techniques.\n",
    "\n",
    "avocado = pd.read_csv('avocado.csv')\n",
    "\n",
    "#count of missing values:\n",
    "avocado.isnull().sum()"
   ]
  },
  {
   "cell_type": "code",
   "execution_count": 419,
   "metadata": {
    "scrolled": true
   },
   "outputs": [
    {
     "data": {
      "text/plain": [
       "Date              0\n",
       "AveragePrice    184\n",
       "TotalVolume     192\n",
       "Small           194\n",
       "Large           178\n",
       "AllSizes        184\n",
       "TotalBags       184\n",
       "Type            204\n",
       "Year              0\n",
       "Region          169\n",
       "dtype: int64"
      ]
     },
     "execution_count": 419,
     "metadata": {},
     "output_type": "execute_result"
    }
   ],
   "source": [
    "#we handle missing year data by manipulating the date value and vice verse.\n",
    "#when interpolating the date value, we default to january 1st.\n",
    "#this leaves us with two rows that have no date or year, which we can drop, since \n",
    "#we have no way of extrapolating their date value.\n",
    "\n",
    "avocado['Year'] = avocado.apply(\n",
    "    lambda row: str(row['Date'])[0:4] \n",
    "    if (pd.isna(row['Year']) & (pd.isna(row['Date'])==False))\n",
    "    else row['Year'],\n",
    "    axis=1\n",
    ")\n",
    "avocado['Date'] = avocado.apply(\n",
    "    lambda row: str(int(row['Year']))+'-01-01' \n",
    "    if (pd.isna(row['Date']) & (pd.isna(row['Year'])==False))\n",
    "    else row['Date'],\n",
    "    axis=1\n",
    ")\n",
    "\n",
    "avocado = avocado[avocado['Year'].notna()]\n",
    "avocado.isnull().sum()"
   ]
  },
  {
   "cell_type": "code",
   "execution_count": 420,
   "metadata": {},
   "outputs": [],
   "source": [
    "#region interpolation: a cursory analysis shows that most missing values are located between\n",
    "#identical regions, so we will use a forward fill. \n",
    "avocado['Region'] = avocado['Region'].fillna(method='ffill')\n",
    "\n",
    "#average price interpolation: type seems to be a differentiating factor in determining price.\n",
    "#organic avocados tend to have a higher average price, so  we will interpolate with the average\n",
    "# of average prices. conversely, we can also approximate what type a sale is based on the \n",
    "#average price.\n",
    "\n",
    "#price interpolation\n",
    "avocado['AveragePrice'] = avocado.apply(\n",
    "    lambda row: avocado[(avocado['Type']==row['Type'])]['AveragePrice'].mean() \n",
    "    if (pd.isna(row['AveragePrice']) & (pd.isna(row['Type'])==False))\n",
    "    else row['AveragePrice'],\n",
    "    axis=1\n",
    ")"
   ]
  },
  {
   "cell_type": "code",
   "execution_count": 421,
   "metadata": {
    "scrolled": true
   },
   "outputs": [],
   "source": [
    "avg_p_conv = avocado[avocado['Type']=='conventional']['AveragePrice'].mean()\n",
    "avg_p_org  = avocado[avocado['Type']=='organic']['AveragePrice'].mean()\n",
    "\n",
    "def guessType(avPrice):\n",
    "    if abs(avPrice-avg_p_conv) <= abs(avPrice-avg_p_org):\n",
    "        return 'conventional'\n",
    "    else:\n",
    "        return 'organic'\n",
    "\n",
    "#type interpolation: we deduce the type based on average price and drop all other rows.\n",
    "\n",
    "avocado['Type'] = avocado.apply(\n",
    "    lambda row: guessType(row['AveragePrice'])\n",
    "    if (pd.isna(row['Type']) & (pd.isna(row['AveragePrice'])==False))\n",
    "    else row['Type'],\n",
    "    axis=1\n",
    ")\n",
    "\n",
    "avocado = avocado[avocado['Type'].notna()]"
   ]
  },
  {
   "cell_type": "code",
   "execution_count": 422,
   "metadata": {},
   "outputs": [
    {
     "data": {
      "text/plain": [
       "Date              0\n",
       "AveragePrice      0\n",
       "TotalVolume     192\n",
       "Small           194\n",
       "Large           178\n",
       "AllSizes        184\n",
       "TotalBags       184\n",
       "Type              0\n",
       "Year              0\n",
       "Region            0\n",
       "dtype: int64"
      ]
     },
     "execution_count": 422,
     "metadata": {},
     "output_type": "execute_result"
    }
   ],
   "source": [
    "avocado.isnull().sum()"
   ]
  },
  {
   "cell_type": "code",
   "execution_count": 423,
   "metadata": {},
   "outputs": [
    {
     "data": {
      "text/plain": [
       "Date             0\n",
       "AveragePrice     0\n",
       "TotalVolume      7\n",
       "Small            5\n",
       "Large            6\n",
       "AllSizes        10\n",
       "TotalBags       10\n",
       "Type             0\n",
       "Year             0\n",
       "Region           0\n",
       "dtype: int64"
      ]
     },
     "execution_count": 423,
     "metadata": {},
     "output_type": "execute_result"
    }
   ],
   "source": [
    "#Interpolating Total volume, small, large, allsizes, and totalbags:\n",
    "#these five values make up an equation where tv = s + l + al + tb\n",
    "# as a result, we can iterate through each value and solve for it, provided\n",
    "# the other four values aren't null. otherwise, we may consider dropping them.\n",
    "\n",
    "avocado['TotalVolume'] = avocado.apply(\n",
    "    lambda row: row[['Small','Large','AllSizes','TotalBags']].sum()\n",
    "    if (\n",
    "        pd.isna(row['TotalVolume'])  & \n",
    "        (row[['Small','Large','AllSizes','TotalBags']].isna().any()==False)\n",
    "       )\n",
    "    else row['TotalVolume'],\n",
    "    axis=1\n",
    ")\n",
    "\n",
    "avocado['Small'] = avocado.apply(\n",
    "    lambda row: row['TotalVolume'] - row[['Large','AllSizes','TotalBags']].sum()\n",
    "    if (\n",
    "        pd.isna(row['Small'])  & \n",
    "        (row[['TotalVolume','Large','AllSizes','TotalBags']].isna().any()==False)\n",
    "       )\n",
    "    else row['Small'],\n",
    "    axis=1\n",
    ")\n",
    "\n",
    "avocado['Large'] = avocado.apply(\n",
    "    lambda row: row['TotalVolume'] - row[['Small','AllSizes','TotalBags']].sum()\n",
    "    if (\n",
    "        pd.isna(row['Large'])  & \n",
    "        (row[['TotalVolume','Small','AllSizes','TotalBags']].isna().any()==False)\n",
    "       )\n",
    "    else row['Large'],\n",
    "    axis=1\n",
    ")\n",
    "\n",
    "avocado['AllSizes'] = avocado.apply(\n",
    "    lambda row: row['TotalVolume'] - row[['Small','Large','TotalBags']].sum()\n",
    "    if (\n",
    "        pd.isna(row['AllSizes'])  & \n",
    "        (row[['TotalVolume','Small','Large','TotalBags']].isna().any()==False)\n",
    "       )\n",
    "    else row['AllSizes'],\n",
    "    axis=1\n",
    ")\n",
    "\n",
    "avocado['TotalBags'] = avocado.apply(\n",
    "    lambda row: row['TotalVolume'] - row[['Small','AllSizes','Large']].sum()\n",
    "    if (\n",
    "        pd.isna(row['TotalBags'])  & \n",
    "        (row[['TotalVolume','Small','AllSizes','Large']].isna().any()==False)\n",
    "       )\n",
    "    else row['TotalBags'],\n",
    "    axis=1\n",
    ")\n",
    "avocado.isnull().sum()"
   ]
  },
  {
   "cell_type": "code",
   "execution_count": 428,
   "metadata": {
    "scrolled": false
   },
   "outputs": [],
   "source": [
    "#because of the negligible number of remaining null values, we can justify dropping them.\n",
    "avocado = avocado.dropna()"
   ]
  },
  {
   "cell_type": "code",
   "execution_count": 429,
   "metadata": {},
   "outputs": [
    {
     "data": {
      "text/plain": [
       "Date            0\n",
       "AveragePrice    0\n",
       "TotalVolume     0\n",
       "Small           0\n",
       "Large           0\n",
       "AllSizes        0\n",
       "TotalBags       0\n",
       "Type            0\n",
       "Year            0\n",
       "Region          0\n",
       "dtype: int64"
      ]
     },
     "execution_count": 429,
     "metadata": {},
     "output_type": "execute_result"
    }
   ],
   "source": [
    "avocado.isnull().sum()"
   ]
  },
  {
   "cell_type": "code",
   "execution_count": 433,
   "metadata": {},
   "outputs": [
    {
     "data": {
      "text/html": [
       "<div>\n",
       "<style scoped>\n",
       "    .dataframe tbody tr th:only-of-type {\n",
       "        vertical-align: middle;\n",
       "    }\n",
       "\n",
       "    .dataframe tbody tr th {\n",
       "        vertical-align: top;\n",
       "    }\n",
       "\n",
       "    .dataframe thead th {\n",
       "        text-align: right;\n",
       "    }\n",
       "</style>\n",
       "<table border=\"1\" class=\"dataframe\">\n",
       "  <thead>\n",
       "    <tr style=\"text-align: right;\">\n",
       "      <th></th>\n",
       "      <th>Date</th>\n",
       "      <th>AveragePrice</th>\n",
       "      <th>TotalVolume</th>\n",
       "      <th>Small</th>\n",
       "      <th>Large</th>\n",
       "      <th>AllSizes</th>\n",
       "      <th>TotalBags</th>\n",
       "      <th>Type</th>\n",
       "      <th>Year</th>\n",
       "      <th>Region</th>\n",
       "    </tr>\n",
       "  </thead>\n",
       "  <tbody>\n",
       "    <tr>\n",
       "      <th>18244</th>\n",
       "      <td>2018-02-04</td>\n",
       "      <td>1.63</td>\n",
       "      <td>17074.83</td>\n",
       "      <td>2046.96</td>\n",
       "      <td>1529.20</td>\n",
       "      <td>0.00</td>\n",
       "      <td>13498.67</td>\n",
       "      <td>organic</td>\n",
       "      <td>2018</td>\n",
       "      <td>WestTexNewMexico</td>\n",
       "    </tr>\n",
       "    <tr>\n",
       "      <th>18245</th>\n",
       "      <td>2018-01-28</td>\n",
       "      <td>1.71</td>\n",
       "      <td>13888.04</td>\n",
       "      <td>1191.70</td>\n",
       "      <td>3431.50</td>\n",
       "      <td>0.00</td>\n",
       "      <td>9264.84</td>\n",
       "      <td>organic</td>\n",
       "      <td>2018</td>\n",
       "      <td>WestTexNewMexico</td>\n",
       "    </tr>\n",
       "    <tr>\n",
       "      <th>18246</th>\n",
       "      <td>2018-01-21</td>\n",
       "      <td>1.87</td>\n",
       "      <td>13766.76</td>\n",
       "      <td>1191.92</td>\n",
       "      <td>2452.79</td>\n",
       "      <td>727.94</td>\n",
       "      <td>9394.11</td>\n",
       "      <td>organic</td>\n",
       "      <td>2018</td>\n",
       "      <td>WestTexNewMexico</td>\n",
       "    </tr>\n",
       "    <tr>\n",
       "      <th>18247</th>\n",
       "      <td>2018-01-14</td>\n",
       "      <td>1.93</td>\n",
       "      <td>16205.22</td>\n",
       "      <td>1527.63</td>\n",
       "      <td>2981.04</td>\n",
       "      <td>727.01</td>\n",
       "      <td>10969.54</td>\n",
       "      <td>organic</td>\n",
       "      <td>2018</td>\n",
       "      <td>WestTexNewMexico</td>\n",
       "    </tr>\n",
       "    <tr>\n",
       "      <th>18248</th>\n",
       "      <td>2018-01-07</td>\n",
       "      <td>1.62</td>\n",
       "      <td>17489.58</td>\n",
       "      <td>2894.77</td>\n",
       "      <td>2356.13</td>\n",
       "      <td>224.53</td>\n",
       "      <td>12014.15</td>\n",
       "      <td>organic</td>\n",
       "      <td>2018</td>\n",
       "      <td>WestTexNewMexico</td>\n",
       "    </tr>\n",
       "  </tbody>\n",
       "</table>\n",
       "</div>"
      ],
      "text/plain": [
       "             Date  AveragePrice  TotalVolume    Small    Large  AllSizes  \\\n",
       "18244  2018-02-04          1.63     17074.83  2046.96  1529.20      0.00   \n",
       "18245  2018-01-28          1.71     13888.04  1191.70  3431.50      0.00   \n",
       "18246  2018-01-21          1.87     13766.76  1191.92  2452.79    727.94   \n",
       "18247  2018-01-14          1.93     16205.22  1527.63  2981.04    727.01   \n",
       "18248  2018-01-07          1.62     17489.58  2894.77  2356.13    224.53   \n",
       "\n",
       "       TotalBags     Type  Year            Region  \n",
       "18244   13498.67  organic  2018  WestTexNewMexico  \n",
       "18245    9264.84  organic  2018  WestTexNewMexico  \n",
       "18246    9394.11  organic  2018  WestTexNewMexico  \n",
       "18247   10969.54  organic  2018  WestTexNewMexico  \n",
       "18248   12014.15  organic  2018  WestTexNewMexico  "
      ]
     },
     "execution_count": 433,
     "metadata": {},
     "output_type": "execute_result"
    }
   ],
   "source": [
    "# 4.2. Convert the fields Type, Year and Region to categorical data type and subset the\n",
    "# dataframe to exclude region “TotalUS” and sort the dataframe by date in\n",
    "# ascending order. Is the average price of an avocado higher in 2017 compared to\n",
    "# 2016?\n",
    "\n",
    "#subset to exclude totalUS\n",
    "avocado = avocado[avocado[\"Region\"] != \"TotalUS\"]\n",
    "avocado.tail()"
   ]
  },
  {
   "cell_type": "code",
   "execution_count": 435,
   "metadata": {},
   "outputs": [],
   "source": [
    "avocado['Type']  = pd.Categorical(avocado['Type'])\n",
    "avocado['Year']  = pd.Categorical(avocado['Year'])\n",
    "avocado['Region']= pd.Categorical(avocado['Region'])"
   ]
  },
  {
   "cell_type": "code",
   "execution_count": 438,
   "metadata": {},
   "outputs": [
    {
     "data": {
      "text/html": [
       "<div>\n",
       "<style scoped>\n",
       "    .dataframe tbody tr th:only-of-type {\n",
       "        vertical-align: middle;\n",
       "    }\n",
       "\n",
       "    .dataframe tbody tr th {\n",
       "        vertical-align: top;\n",
       "    }\n",
       "\n",
       "    .dataframe thead th {\n",
       "        text-align: right;\n",
       "    }\n",
       "</style>\n",
       "<table border=\"1\" class=\"dataframe\">\n",
       "  <thead>\n",
       "    <tr style=\"text-align: right;\">\n",
       "      <th></th>\n",
       "      <th>Date</th>\n",
       "      <th>AveragePrice</th>\n",
       "      <th>TotalVolume</th>\n",
       "      <th>Small</th>\n",
       "      <th>Large</th>\n",
       "      <th>AllSizes</th>\n",
       "      <th>TotalBags</th>\n",
       "      <th>Type</th>\n",
       "      <th>Year</th>\n",
       "      <th>Region</th>\n",
       "    </tr>\n",
       "  </thead>\n",
       "  <tbody>\n",
       "    <tr>\n",
       "      <th>2124</th>\n",
       "      <td>2015-01-01</td>\n",
       "      <td>1.14</td>\n",
       "      <td>405013.16</td>\n",
       "      <td>137425.32</td>\n",
       "      <td>216791.05</td>\n",
       "      <td>11561.59</td>\n",
       "      <td>39235.20</td>\n",
       "      <td>conventional</td>\n",
       "      <td>2015</td>\n",
       "      <td>Sacramento</td>\n",
       "    </tr>\n",
       "    <tr>\n",
       "      <th>10491</th>\n",
       "      <td>2015-01-01</td>\n",
       "      <td>1.70</td>\n",
       "      <td>4352.18</td>\n",
       "      <td>459.53</td>\n",
       "      <td>3564.95</td>\n",
       "      <td>0.00</td>\n",
       "      <td>327.70</td>\n",
       "      <td>organic</td>\n",
       "      <td>2015</td>\n",
       "      <td>Nashville</td>\n",
       "    </tr>\n",
       "    <tr>\n",
       "      <th>2111</th>\n",
       "      <td>2015-01-01</td>\n",
       "      <td>1.26</td>\n",
       "      <td>403793.79</td>\n",
       "      <td>110289.47</td>\n",
       "      <td>232223.44</td>\n",
       "      <td>12830.34</td>\n",
       "      <td>48450.54</td>\n",
       "      <td>conventional</td>\n",
       "      <td>2015</td>\n",
       "      <td>Sacramento</td>\n",
       "    </tr>\n",
       "    <tr>\n",
       "      <th>9225</th>\n",
       "      <td>2015-01-01</td>\n",
       "      <td>1.44</td>\n",
       "      <td>7665.70</td>\n",
       "      <td>1565.49</td>\n",
       "      <td>4210.72</td>\n",
       "      <td>0.00</td>\n",
       "      <td>1889.49</td>\n",
       "      <td>organic</td>\n",
       "      <td>2015</td>\n",
       "      <td>Atlanta</td>\n",
       "    </tr>\n",
       "    <tr>\n",
       "      <th>10062</th>\n",
       "      <td>2015-01-01</td>\n",
       "      <td>1.31</td>\n",
       "      <td>10598.30</td>\n",
       "      <td>4797.41</td>\n",
       "      <td>57.91</td>\n",
       "      <td>0.00</td>\n",
       "      <td>5742.98</td>\n",
       "      <td>organic</td>\n",
       "      <td>2015</td>\n",
       "      <td>Houston</td>\n",
       "    </tr>\n",
       "  </tbody>\n",
       "</table>\n",
       "</div>"
      ],
      "text/plain": [
       "             Date  AveragePrice  TotalVolume      Small      Large  AllSizes  \\\n",
       "2124   2015-01-01          1.14    405013.16  137425.32  216791.05  11561.59   \n",
       "10491  2015-01-01          1.70      4352.18     459.53    3564.95      0.00   \n",
       "2111   2015-01-01          1.26    403793.79  110289.47  232223.44  12830.34   \n",
       "9225   2015-01-01          1.44      7665.70    1565.49    4210.72      0.00   \n",
       "10062  2015-01-01          1.31     10598.30    4797.41      57.91      0.00   \n",
       "\n",
       "       TotalBags          Type  Year      Region  \n",
       "2124    39235.20  conventional  2015  Sacramento  \n",
       "10491     327.70       organic  2015   Nashville  \n",
       "2111    48450.54  conventional  2015  Sacramento  \n",
       "9225     1889.49       organic  2015     Atlanta  \n",
       "10062    5742.98       organic  2015     Houston  "
      ]
     },
     "execution_count": 438,
     "metadata": {},
     "output_type": "execute_result"
    }
   ],
   "source": [
    "sorted_avocado = avocado.sort_values('Date',ascending=True)\n",
    "sorted_avocado.head()"
   ]
  },
  {
   "cell_type": "code",
   "execution_count": 444,
   "metadata": {},
   "outputs": [
    {
     "name": "stdout",
     "output_type": "stream",
     "text": [
      "The price of an avocado in 2016 is smaller than in 2017\n"
     ]
    }
   ],
   "source": [
    "#avg price of avocado in 2016 vs 2017\n",
    "price_2016 = avocado[(avocado['Year']==\"2016\")]['AveragePrice'].mean()\n",
    "price_2017 = avocado[(avocado['Year']==\"2017\")]['AveragePrice'].mean()\n",
    "if (price_2016 > price_2017):\n",
    "    print (\"The price of an avocado in 2016 is greater than in 2017\")\n",
    "else:\n",
    "    print (\"The price of an avocado in 2016 is smaller than in 2017\")"
   ]
  },
  {
   "cell_type": "code",
   "execution_count": 469,
   "metadata": {},
   "outputs": [],
   "source": [
    "# 4.3 Sum up the total volume of avocado sales by region and create a horizontal bar\n",
    "# plot using Matplotlib. Which state from the region has the highest sales of\n",
    "# avocados by volume? Subset the data for that state, create a histogram of\n",
    "# average price and interpret it. Obtain the correlation index between average price\n",
    "# and total volume for that state, what do you find?\n",
    "\n",
    "by_region = pd.DataFrame(sorted_avocado.groupby(['Region'])['TotalVolume'].sum())"
   ]
  },
  {
   "cell_type": "code",
   "execution_count": 474,
   "metadata": {},
   "outputs": [
    {
     "data": {
      "text/plain": [
       "<AxesSubplot:ylabel='Region'>"
      ]
     },
     "execution_count": 474,
     "metadata": {},
     "output_type": "execute_result"
    },
    {
     "data": {
      "image/png": "[encoded data removed]",
      "text/plain": [
       "<Figure size 648x1152 with 1 Axes>"
      ]
     },
     "metadata": {
      "needs_background": "light"
     },
     "output_type": "display_data"
    }
   ],
   "source": [
    "\n",
    "# Figure Size \n",
    "by_region = by_region.sort_values('TotalVolume')\n",
    "by_region.plot(kind='barh',figsize=(9,16))"
   ]
  },
  {
   "cell_type": "code",
   "execution_count": 493,
   "metadata": {},
   "outputs": [],
   "source": [
    "#technically speaking, \"West\" is the state with the most total volume.\n",
    "#Although this isn't a state, we will proceed with subsetting anyway.\n",
    "\n",
    "avocado_top_vol = avocado[avocado[\"Region\"]==by_region.idxmax()[0]]\n",
    "\n",
    "#create a histogram for average price\n",
    "#correlation between average price and total volume "
   ]
  },
  {
   "cell_type": "code",
   "execution_count": 498,
   "metadata": {},
   "outputs": [
    {
     "data": {
      "image/png": "[encoded data removed]",
      "text/plain": [
       "<Figure size 432x288 with 1 Axes>"
      ]
     },
     "metadata": {
      "needs_background": "light"
     },
     "output_type": "display_data"
    }
   ],
   "source": [
    "plt.hist(avocado_top_vol['AveragePrice'])\n",
    "plt.xlabel(\"Average Price\")\n",
    "plt.title(\"Histogram of Average Price for Region: West\")\n",
    "plt.show()\n",
    "\n",
    "#data exhibits positive skew with a unimoda distribution, where the most frequent\n",
    "#average price occurs at around the $1 mark, and some outliers in the $2-$2.50 range.\n",
    "#however, based on the size of the tail, we can conclude that the distribution is not normal."
   ]
  },
  {
   "cell_type": "code",
   "execution_count": 501,
   "metadata": {},
   "outputs": [
    {
     "data": {
      "text/plain": [
       "-0.7566954418706449"
      ]
     },
     "execution_count": 501,
     "metadata": {},
     "output_type": "execute_result"
    }
   ],
   "source": [
    "np.corrcoef(avocado_top_vol['AveragePrice'],avocado_top_vol['TotalVolume'])[0][1]\n",
    "#the data exhibits a negative correlation between the average price and total volume that is\n",
    "#significant enough to be considered strong. The interpretation for this correlation is that\n",
    "#a one percent increase in average price is associated with a 0.75 percent drop in total volume.\n",
    "#this largely coincides with an intuitive understanding of the law of supply and demand, wherein\n",
    "#increasing the price of a good decreases the demand for it."
   ]
  },
  {
   "cell_type": "code",
   "execution_count": null,
   "metadata": {},
   "outputs": [],
   "source": [
    "#4.4. Provide you observations of the following timeline plot of avocado sales by\n",
    "# volume. Which month consistently has the highest volume of sales every year? In\n",
    "# general, what could be some possible reasons driving this surge in sales? (2\n",
    "# points)\n",
    "\n",
    "#on face value, it appears that february is the consistently highest-volume month for every year.\n",
    "#this could be attributed to a decrease in prices, or some seasonal component of growing avocados \n",
    "#where it becomes much easier to farm them around february."
   ]
  }
 ],
 "metadata": {
  "kernelspec": {
   "display_name": "Python 3",
   "language": "python",
   "name": "python3"
  },
  "language_info": {
   "codemirror_mode": {
    "name": "ipython",
    "version": 3
   },
   "file_extension": ".py",
   "mimetype": "text/x-python",
   "name": "python",
   "nbconvert_exporter": "python",
   "pygments_lexer": "ipython3",
   "version": "3.7.8"
  }
 },
 "nbformat": 4,
 "nbformat_minor": 4
}
